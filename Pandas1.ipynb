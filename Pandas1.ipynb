{
  "nbformat": 4,
  "nbformat_minor": 0,
  "metadata": {
    "colab": {
      "name": "Pandas1.ipynb",
      "provenance": [],
      "collapsed_sections": [],
      "include_colab_link": true
    },
    "kernelspec": {
      "name": "python3",
      "display_name": "Python 3"
    },
    "language_info": {
      "name": "python"
    }
  },
  "cells": [
    {
      "cell_type": "markdown",
      "metadata": {
        "id": "view-in-github",
        "colab_type": "text"
      },
      "source": [
        "<a href=\"https://colab.research.google.com/github/NguyenDuyTan0302/BaiTapNNLT/blob/master/Pandas1.ipynb\" target=\"_parent\"><img src=\"https://colab.research.google.com/assets/colab-badge.svg\" alt=\"Open In Colab\"/></a>"
      ]
    },
    {
      "cell_type": "code",
      "source": [
        "import numpy as np"
      ],
      "metadata": {
        "id": "0gzRrIP2sjYc"
      },
      "execution_count": null,
      "outputs": []
    },
    {
      "cell_type": "markdown",
      "source": [
        "Câu 1: Khởi tạo 1 Series với giá trị rỗng"
      ],
      "metadata": {
        "id": "WqQFoX_IsoI8"
      }
    },
    {
      "cell_type": "code",
      "source": [
        "import pandas as pd\n",
        "pd.Series()"
      ],
      "metadata": {
        "colab": {
          "base_uri": "https://localhost:8080/"
        },
        "id": "HKs-TrBQsp3D",
        "outputId": "70a1d3e5-f2a4-4055-e1f7-d187b60c6835"
      },
      "execution_count": null,
      "outputs": [
        {
          "output_type": "stream",
          "name": "stderr",
          "text": [
            "/usr/local/lib/python3.7/dist-packages/ipykernel_launcher.py:2: DeprecationWarning: The default dtype for empty Series will be 'object' instead of 'float64' in a future version. Specify a dtype explicitly to silence this warning.\n",
            "  \n"
          ]
        },
        {
          "output_type": "execute_result",
          "data": {
            "text/plain": [
              "Series([], dtype: float64)"
            ]
          },
          "metadata": {},
          "execution_count": 25
        }
      ]
    },
    {
      "cell_type": "markdown",
      "source": [
        "Câu 2: Giả sử có 1 vector hàng a có kích thước (1x7) được biểu diễn trong NumPy, hãy tạo 1\n",
        "series tương ứng với các giá trị được sinh ngẫu nhiên."
      ],
      "metadata": {
        "id": "w40wzv2qwTGd"
      }
    },
    {
      "cell_type": "code",
      "source": [
        "a = np.random.randint(0,10,5)\n",
        "print(\"Vector được tạo ngẫu nhiên là: \",a)\n",
        "\n",
        "b = pd.Series(a)\n",
        "print(\"Series tương ứng là: \\n\",b )"
      ],
      "metadata": {
        "colab": {
          "base_uri": "https://localhost:8080/"
        },
        "id": "AsTpohc9wW4i",
        "outputId": "fb1d755d-4d1a-40f3-88d3-f88fc5fddefc"
      },
      "execution_count": null,
      "outputs": [
        {
          "output_type": "stream",
          "name": "stdout",
          "text": [
            "Vector được tạo ngẫu nhiên là:  [8 7 6 0 2]\n",
            "Series tương ứng là: \n",
            " 0    8\n",
            "1    7\n",
            "2    6\n",
            "3    0\n",
            "4    2\n",
            "dtype: int64\n"
          ]
        }
      ]
    },
    {
      "cell_type": "markdown",
      "source": [
        "Câu 3: Giả sử có 1 vector hàng a có kích thước (1x7), hãy nhập các giá trị cho 7 phần tử này từ\n",
        "bàn phím và tạo series tương ứng."
      ],
      "metadata": {
        "id": "3HXPXVA4xMY0"
      }
    },
    {
      "cell_type": "code",
      "source": [
        "a = np.array([int(input(f\"Nhập phần tử thứ {i+1}: \")) for i in range(7)])\n",
        "print(\"Vector sau khi được nhập là: \", a)\n",
        "\n",
        "b = pd.Series(a)\n",
        "print(\"Series tương ứng là: \\n\",b)"
      ],
      "metadata": {
        "colab": {
          "base_uri": "https://localhost:8080/"
        },
        "id": "xtFuSNXIxNJr",
        "outputId": "a956374d-ea3b-426b-ba43-3a28665365d8"
      },
      "execution_count": null,
      "outputs": [
        {
          "output_type": "stream",
          "name": "stdout",
          "text": [
            "Nhập phần tử thứ 1: 1\n",
            "Nhập phần tử thứ 2: 2\n",
            "Nhập phần tử thứ 3: 3\n",
            "Nhập phần tử thứ 4: 4\n",
            "Nhập phần tử thứ 5: 5\n",
            "Nhập phần tử thứ 6: 6\n",
            "Nhập phần tử thứ 7: 7\n",
            "Vector sau khi được nhập là:  [1 2 3 4 5 6 7]\n",
            "Series tương ứng là: \n",
            " 0    1\n",
            "1    2\n",
            "2    3\n",
            "3    4\n",
            "4    5\n",
            "5    6\n",
            "6    7\n",
            "dtype: int64\n"
          ]
        }
      ]
    },
    {
      "cell_type": "markdown",
      "source": [
        "Câu 4: Giả sử có 1 vector cột có kích thước (7x1) được biểu diễn trong NumPy, hãy tạo Series\n",
        "tương ứng."
      ],
      "metadata": {
        "id": "XLlEHVT6x1cI"
      }
    },
    {
      "cell_type": "code",
      "source": [
        "a = np.random.randint(0,10,(7,1))\n",
        "print(\"Vector cột ngẫu nhiên: \\n\",a)\n",
        "\n",
        "b = pd.Series(a.reshape(7,))\n",
        "print(\"Series tương ứng là: \\n\",b)"
      ],
      "metadata": {
        "colab": {
          "base_uri": "https://localhost:8080/"
        },
        "id": "6VIm_F_Xx3_4",
        "outputId": "9536e91d-23a5-457f-dfcc-746f55d7c596"
      },
      "execution_count": null,
      "outputs": [
        {
          "output_type": "stream",
          "name": "stdout",
          "text": [
            "Vector cột ngẫu nhiên: \n",
            " [[1]\n",
            " [0]\n",
            " [1]\n",
            " [0]\n",
            " [2]\n",
            " [5]\n",
            " [8]]\n",
            "Series tương ứng là: \n",
            " 0    1\n",
            "1    0\n",
            "2    1\n",
            "3    0\n",
            "4    2\n",
            "5    5\n",
            "6    8\n",
            "dtype: int64\n"
          ]
        }
      ]
    },
    {
      "cell_type": "markdown",
      "source": [
        "Câu 5: Chuyển đổi dữ liệu, hãy thực hiện các yêu cầu sau:\n",
        "* Chuyển 1 list thành 1 series\n"
      ],
      "metadata": {
        "id": "N9crNnjlzBEA"
      }
    },
    {
      "cell_type": "code",
      "source": [
        "list1 = [1,2,3,4,5]\n",
        "print(\"List được khởi tạo ban đầu là: \",list1)\n",
        "s = pd.Series(list1)\n",
        "print(\"Chuyển đổi list thành series: \\n\",s)"
      ],
      "metadata": {
        "colab": {
          "base_uri": "https://localhost:8080/"
        },
        "id": "GwKMIyxfzKkz",
        "outputId": "2a231fc9-0a31-4308-92c1-6d1a6f5a8cb1"
      },
      "execution_count": null,
      "outputs": [
        {
          "output_type": "stream",
          "name": "stdout",
          "text": [
            "List được khởi tạo ban đầu là:  [1, 2, 3, 4, 5]\n",
            "Chuyển đổi list thành series: \n",
            " 0    1\n",
            "1    2\n",
            "2    3\n",
            "3    4\n",
            "4    5\n",
            "dtype: int64\n"
          ]
        }
      ]
    },
    {
      "cell_type": "markdown",
      "source": [
        "* Chuyển 1 tuple thành 1 series\n"
      ],
      "metadata": {
        "id": "qD3uFQ7WzONm"
      }
    },
    {
      "cell_type": "code",
      "source": [
        "tup1 = (\"a\",\"b\",\"c\",\"d\",\"e\")\n",
        "print(\"Tuple được khởi tạo ban đầu là: \",tup1)\n",
        "s = pd.Series(tup1)\n",
        "print(\"Chuyển dictionary thành series:\\n \",s)"
      ],
      "metadata": {
        "colab": {
          "base_uri": "https://localhost:8080/"
        },
        "id": "X7jmvPxwzPsW",
        "outputId": "c3eb88f1-e938-4c81-b828-fa14be700f63"
      },
      "execution_count": null,
      "outputs": [
        {
          "output_type": "stream",
          "name": "stdout",
          "text": [
            "Tuple được khởi tạo ban đầu là:  ('a', 'b', 'c', 'd', 'e')\n",
            "Chuyển dictionary thành series:\n",
            "  0    a\n",
            "1    b\n",
            "2    c\n",
            "3    d\n",
            "4    e\n",
            "dtype: object\n"
          ]
        }
      ]
    },
    {
      "cell_type": "markdown",
      "source": [
        "* Chuyển 1 dictionary thành 1 series"
      ],
      "metadata": {
        "id": "o4XQgkz5zPzV"
      }
    },
    {
      "cell_type": "code",
      "source": [
        "dic1 = {'Tân': 'Đẹp trai', 'Age': 19}\n",
        "print(\"Dictionary được khởi tạo là: \",dic1)\n",
        "print(\"Chuyển dictionary thành series:\\n \", pd.Series(dic1))"
      ],
      "metadata": {
        "colab": {
          "base_uri": "https://localhost:8080/"
        },
        "id": "4dLFTthBzQd3",
        "outputId": "5dc22f29-f2b6-41c6-894a-4c256bce3b52"
      },
      "execution_count": null,
      "outputs": [
        {
          "output_type": "stream",
          "name": "stdout",
          "text": [
            "Dictionary được khởi tạo là:  {'Tân': 'Đẹp trai', 'Age': 19}\n",
            "Chuyển dictionary thành series:\n",
            "  Tân    Đẹp trai\n",
            "Age          19\n",
            "dtype: object\n"
          ]
        }
      ]
    },
    {
      "cell_type": "markdown",
      "source": [
        "![image.png](data:image/png;base64,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)"
      ],
      "metadata": {
        "id": "g5Fb04Hb0EDY"
      }
    },
    {
      "cell_type": "code",
      "source": [
        "s = pd.Series(np.random.randint(0,20, 20))\n",
        "print(\"Series được khởi tạo ngẫu nghiên là:\\n \",s)\n",
        "print(\"Các chỉ số của series: \",s.index)"
      ],
      "metadata": {
        "id": "dl9uifZD0YwE",
        "outputId": "bbfb4f81-0897-4578-9078-5f98e4fa4e84",
        "colab": {
          "base_uri": "https://localhost:8080/"
        }
      },
      "execution_count": null,
      "outputs": [
        {
          "output_type": "stream",
          "name": "stdout",
          "text": [
            "Series được khởi tạo ngẫu nghiên là:\n",
            "  0      1\n",
            "1      7\n",
            "2      2\n",
            "3      3\n",
            "4     16\n",
            "5     15\n",
            "6     19\n",
            "7      6\n",
            "8     17\n",
            "9     10\n",
            "10     6\n",
            "11    19\n",
            "12    19\n",
            "13     0\n",
            "14     9\n",
            "15     1\n",
            "16    11\n",
            "17     5\n",
            "18    19\n",
            "19     5\n",
            "dtype: int64\n",
            "Các chỉ số của series:  RangeIndex(start=0, stop=20, step=1)\n"
          ]
        }
      ]
    },
    {
      "cell_type": "markdown",
      "source": [
        "* Thay đổi cách đánh chỉ số mặc định của series từ đánh chỉ số bằng số nguyên sang các kiểu\n",
        "đánh chỉ số bằng label và in kết quả ra màn hình"
      ],
      "metadata": {
        "id": "1_wTpW3rW6O7"
      }
    },
    {
      "cell_type": "code",
      "source": [
        "import string\n",
        "\n",
        "label_list = [i for i in string.ascii_lowercase] \n",
        "s.index = label_list[: 20]\n",
        "print(\"Series khi thay đổi index bằng kí tự theo bàng mã ascii: \\n\",s)"
      ],
      "metadata": {
        "colab": {
          "base_uri": "https://localhost:8080/"
        },
        "id": "Lxy22lGHW7Ci",
        "outputId": "dc7a12e3-1f1f-4d39-c540-e6e88c179d94"
      },
      "execution_count": null,
      "outputs": [
        {
          "output_type": "stream",
          "name": "stdout",
          "text": [
            "Series khi thay đổi index bằng kí tự theo bàng mã ascii: \n",
            " a     1\n",
            "b     7\n",
            "c     2\n",
            "d     3\n",
            "e    16\n",
            "f    15\n",
            "g    19\n",
            "h     6\n",
            "i    17\n",
            "j    10\n",
            "k     6\n",
            "l    19\n",
            "m    19\n",
            "n     0\n",
            "o     9\n",
            "p     1\n",
            "q    11\n",
            "r     5\n",
            "s    19\n",
            "t     5\n",
            "dtype: int64\n"
          ]
        }
      ]
    },
    {
      "cell_type": "markdown",
      "source": [
        "Câu 7: Giả sử có series có kích thước (1x10), giá trị ngẫu nhiên, index được đánh từ ‘a’ trở đi, hãy:\n",
        "* Trích xuất các phần tử của Series có chỉ số là ‘a’, ‘c’, ‘e’\n",
        "* Trích xuất các phần tử của Series có chỉ số từ 3 đến 6"
      ],
      "metadata": {
        "id": "p152GZFHZIzR"
      }
    },
    {
      "cell_type": "code",
      "source": [
        "s = pd.Series(np.random.randint(0,20,10), index = label_list[:10])\n",
        "print(\"Series khởi tạo với index được thay bằng label là:\\n \",s)"
      ],
      "metadata": {
        "colab": {
          "base_uri": "https://localhost:8080/"
        },
        "id": "vb-gFHCGZhLP",
        "outputId": "419b39c9-be6b-4397-aea7-af42522a642f"
      },
      "execution_count": null,
      "outputs": [
        {
          "output_type": "stream",
          "name": "stdout",
          "text": [
            "Series khởi tạo với index được thay bằng label là:\n",
            "  a     8\n",
            "b     6\n",
            "c     4\n",
            "d    18\n",
            "e    16\n",
            "f     0\n",
            "g     5\n",
            "h    10\n",
            "i     7\n",
            "j    13\n",
            "dtype: int64\n"
          ]
        }
      ]
    },
    {
      "cell_type": "markdown",
      "source": [
        "Trích xuất các phần tử của Series có chỉ số là ‘a’, ‘c’, ‘e’"
      ],
      "metadata": {
        "id": "OZee7HCVhyrg"
      }
    },
    {
      "cell_type": "code",
      "source": [
        "print(\"Phần từ có index là a: \",s.loc['a'])\n",
        "print(\"Phần từ có index là c: \",s.loc['c'])\n",
        "print(\"Phần từ có index là e: \",s.loc['e'])"
      ],
      "metadata": {
        "colab": {
          "base_uri": "https://localhost:8080/"
        },
        "id": "3mi3Vja6ZMoi",
        "outputId": "5e061066-e7bf-4caa-8815-ebe3833a7817"
      },
      "execution_count": null,
      "outputs": [
        {
          "output_type": "stream",
          "name": "stdout",
          "text": [
            "Phần từ có label a:  14\n",
            "Phần từ có label c:  12\n",
            "Phần từ có label e:  11\n"
          ]
        }
      ]
    },
    {
      "cell_type": "markdown",
      "source": [
        "Trích xuất các phần tử của Series có chỉ số từ 3 đến 6"
      ],
      "metadata": {
        "id": "x2quaNbEaI-2"
      }
    },
    {
      "cell_type": "code",
      "source": [
        "print(\"Các phần từ của Series có chỉ số từ 3 đến 6: \\n\", s.iloc[3:7])"
      ],
      "metadata": {
        "colab": {
          "base_uri": "https://localhost:8080/"
        },
        "id": "mOS1tu0qaOPm",
        "outputId": "58e402aa-34ff-4f41-d99b-5635e421492b"
      },
      "execution_count": null,
      "outputs": [
        {
          "output_type": "stream",
          "name": "stdout",
          "text": [
            "Các phần từ của Series có chỉ số từ 3 đến 6: \n",
            " d     1\n",
            "e    11\n",
            "f     4\n",
            "g    18\n",
            "dtype: int64\n"
          ]
        }
      ]
    }
  ]
}