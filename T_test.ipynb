{
  "nbformat": 4,
  "nbformat_minor": 0,
  "metadata": {
    "colab": {
      "name": "T-test.ipynb",
      "provenance": [],
      "authorship_tag": "ABX9TyPezglVarQlIWtBbCCA9giP",
      "include_colab_link": true
    },
    "kernelspec": {
      "name": "python3",
      "display_name": "Python 3"
    },
    "language_info": {
      "name": "python"
    }
  },
  "cells": [
    {
      "cell_type": "markdown",
      "metadata": {
        "id": "view-in-github",
        "colab_type": "text"
      },
      "source": [
        "<a href=\"https://colab.research.google.com/github/NguyenDuyTan0302/BaiTapNNLT/blob/master/T_test.ipynb\" target=\"_parent\"><img src=\"https://colab.research.google.com/assets/colab-badge.svg\" alt=\"Open In Colab\"/></a>"
      ]
    },
    {
      "cell_type": "markdown",
      "source": [
        "Import thư viện cần thiết"
      ],
      "metadata": {
        "id": "eT-V0NhxSZCi"
      }
    },
    {
      "cell_type": "code",
      "execution_count": 1,
      "metadata": {
        "colab": {
          "base_uri": "https://localhost:8080/"
        },
        "id": "1U7-Fw48SMhk",
        "outputId": "2fb946e0-94f8-41b5-8085-08ea1a2af47e"
      },
      "outputs": [
        {
          "output_type": "stream",
          "name": "stderr",
          "text": [
            "/usr/local/lib/python3.7/dist-packages/statsmodels/tools/_testing.py:19: FutureWarning: pandas.util.testing is deprecated. Use the functions in the public API at pandas.testing instead.\n",
            "  import pandas.util.testing as tm\n"
          ]
        }
      ],
      "source": [
        "import numpy as np\n",
        "from scipy import stats\n",
        "import pandas as pd\n",
        "import math\n",
        "from statsmodels.stats.weightstats import ttest_ind"
      ]
    },
    {
      "cell_type": "markdown",
      "source": [
        "Xây dựng vấn đề kiếm định:\n",
        "Điều tra mức độ chi tiêu cho việc giải trí của 25 công nhân của khu công nghiệp A là 2000000 vnđ với độ lệch chuẩn 100000 vnđ. Với mức ý nghĩa 5% ta có thể phát biểu công nhân khu công nghiệp A có thoải mái về tinh thần hay không( tiêu 2200000/tháng cho giải trí)\n",
        "\n",
        "\n",
        "Xây dựng giả thuyết:\n",
        "$$H_0: μ = 2.2$$\n",
        "\n",
        "Giả thuyết thay thế:\n",
        "\n",
        "$$H_a: μ \\ne 2.2$$\n",
        "\n",
        "Với:\n",
        "- $α = 0.05$\n"
      ],
      "metadata": {
        "id": "BLHJWWiZSdbh"
      }
    },
    {
      "cell_type": "code",
      "source": [
        "# Sinh mẫu ngẫu nhiên với cỡ mẫu 25, trung bình 2, độ lệch chuẩn 0.1\n",
        "sample = np.random.normal(loc = 2, scale = 0.1, size = 25)\n",
        "sample"
      ],
      "metadata": {
        "colab": {
          "base_uri": "https://localhost:8080/"
        },
        "id": "AoA7ESgBUex2",
        "outputId": "b8c90c10-ff22-4eba-fce5-0fa4395c4a8f"
      },
      "execution_count": 35,
      "outputs": [
        {
          "output_type": "execute_result",
          "data": {
            "text/plain": [
              "array([1.97425891, 2.00122735, 1.90474532, 2.17503303, 1.90028261,\n",
              "       2.07959856, 1.91209255, 2.0832575 , 1.8715671 , 2.12236716,\n",
              "       1.8321744 , 1.92601137, 2.190395  , 1.99440675, 1.85644481,\n",
              "       2.07363241, 1.91990269, 1.82977268, 1.97787911, 2.07886203,\n",
              "       1.87894142, 2.10928103, 1.99412176, 1.96040194, 1.972532  ])"
            ]
          },
          "metadata": {},
          "execution_count": 35
        }
      ]
    },
    {
      "cell_type": "code",
      "source": [
        "#Xác định các thông số\n",
        "null_mean=2.2\n",
        "alpha=0.05"
      ],
      "metadata": {
        "id": "UKxBRkgoU-HG"
      },
      "execution_count": 36,
      "outputs": []
    },
    {
      "cell_type": "code",
      "source": [
        "#Kiểm định t\n",
        "t_statistic, p_value = stats.ttest_1samp(sample, null_mean)\n",
        "print(\"Giá trị p là:\", p_value)\n",
        "if(p_value <  alpha):\n",
        "  print(\"Có bằng chứng để bác bỏ giả thuyết H0\")\n",
        "else:\n",
        "  print(\"Chưa có bằng chứng để bác bỏ giả thuyết H0\")"
      ],
      "metadata": {
        "colab": {
          "base_uri": "https://localhost:8080/"
        },
        "id": "kEaFKGr5VOI4",
        "outputId": "73896bd6-7cf4-4114-ede1-a44066f78690"
      },
      "execution_count": 37,
      "outputs": [
        {
          "output_type": "stream",
          "name": "stdout",
          "text": [
            "Giá trị p là: 2.9646594384697086e-10\n",
            "Có bằng chứng để bác bỏ giả thuyết H0\n"
          ]
        }
      ]
    },
    {
      "cell_type": "markdown",
      "source": [
        "Xây dựng vấn đề kiếm định: Điều tra mức độ chi tiêu cho việc giải trí của 25 công nhân của khu công nghiệp A là 2000000 vnđ với độ lệch chuẩn 100000 vnđ. Điều tra mức độ chi tiêu cho việc giải trí của 25 công nhân của khu công nghiệp B là 2300000vnđ với độ lệch chuẩn 500000vnđ. Với mức ý nghĩa 5% ta có thể phát biểu công nhân khu công nghiệp A có thoải mái về tinh thần hơn  công nhân ở khu công nghiệp B hay không ? \n",
        "\n",
        "Xây dựng giả thuyết:\n",
        "\n",
        "$$H_0: μ_a= μ_b$$\n",
        "\n",
        "Giả thuyết thay thế:\n",
        "\n",
        "$$H_a: μ_a> μ_b$$\n",
        "\n",
        "Với α=0.05"
      ],
      "metadata": {
        "id": "ZuGtAk0yVetW"
      }
    },
    {
      "cell_type": "code",
      "source": [
        "# Sinh mẫu ngẫu nhiên với cỡ mẫu 25, trung bình 2, độ lệch chuẩn 0.1\n",
        "sample_A = np.random.normal(loc = 2, scale = 0.1, size = 25)\n",
        "sample_A"
      ],
      "metadata": {
        "colab": {
          "base_uri": "https://localhost:8080/"
        },
        "id": "CVKV9ABJW2M-",
        "outputId": "f6db020c-bcf8-48a2-b010-891086d7b2dd"
      },
      "execution_count": 11,
      "outputs": [
        {
          "output_type": "execute_result",
          "data": {
            "text/plain": [
              "array([1.71332774, 1.85357425, 1.84706203, 2.07572935, 2.11536289,\n",
              "       2.05518141, 2.01560899, 1.87808874, 1.96253964, 1.96537648,\n",
              "       2.08262573, 2.10041798, 1.91353613, 1.96687636, 1.95426365,\n",
              "       2.03913958, 1.98390723, 2.11932   , 1.87211877, 2.03490425,\n",
              "       2.13214302, 2.05092769, 2.02183144, 1.96825649, 2.1228834 ])"
            ]
          },
          "metadata": {},
          "execution_count": 11
        }
      ]
    },
    {
      "cell_type": "code",
      "source": [
        "# Sinh mẫu ngẫu nhiên với cỡ mẫu 25, trung bình 2.3, độ lệch chuẩn 0.5\n",
        "sample_B = np.random.normal(loc = 2.3, scale = 0.5, size = 25)\n",
        "sample_B"
      ],
      "metadata": {
        "colab": {
          "base_uri": "https://localhost:8080/"
        },
        "id": "DYnUicstXDSt",
        "outputId": "4a1d06f1-9205-46d8-f811-171450731fa6"
      },
      "execution_count": 12,
      "outputs": [
        {
          "output_type": "execute_result",
          "data": {
            "text/plain": [
              "array([2.55450235, 3.3665252 , 2.06970288, 1.9505157 , 2.24767893,\n",
              "       2.58252862, 1.89324603, 3.21713517, 1.83741507, 1.95575597,\n",
              "       2.47827028, 2.24235197, 2.51006498, 2.65954203, 2.73123814,\n",
              "       2.32625402, 2.14375478, 2.02930325, 2.75465137, 2.12593604,\n",
              "       1.86737072, 2.14682415, 0.90588806, 2.04241192, 1.36220025])"
            ]
          },
          "metadata": {},
          "execution_count": 12
        }
      ]
    },
    {
      "cell_type": "code",
      "source": [
        "#Xác định các thông số\n",
        "alpha=0.05"
      ],
      "metadata": {
        "id": "-wBEi2rLXGvO"
      },
      "execution_count": 9,
      "outputs": []
    },
    {
      "cell_type": "code",
      "source": [
        "# Tiến hành kiểm định t:\n",
        "t_statistic, p_value, df = ttest_ind(x1 = sample_A, x2 = sample_B, value = 2 - 2.3, alternative = \"larger\")\n",
        "print(\"Giá trị p là:\",p_value)\n",
        "if p_value < alpha:\n",
        "    print(\"Có bằng chứng để bác bỏ giả thuyết H0\")\n",
        "else:\n",
        "    print(\"Chưa có bằng chứng để bác bỏ giả thuyết H0\")"
      ],
      "metadata": {
        "colab": {
          "base_uri": "https://localhost:8080/"
        },
        "id": "-Ctnfw9gXRMt",
        "outputId": "808ab171-067b-4f33-e91a-f18f4bfe6122"
      },
      "execution_count": 13,
      "outputs": [
        {
          "output_type": "stream",
          "name": "stdout",
          "text": [
            "Giá trị p là: 0.30798268750635704\n",
            "Chưa có bằng chứng để bác bỏ giả thuyết H0\n"
          ]
        }
      ]
    }
  ]
}