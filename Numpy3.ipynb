{
  "nbformat": 4,
  "nbformat_minor": 0,
  "metadata": {
    "colab": {
      "name": "Numpy3.ipynb",
      "provenance": [],
      "authorship_tag": "ABX9TyP8GQb3hPR7CogcZ/+q4gms",
      "include_colab_link": true
    },
    "kernelspec": {
      "name": "python3",
      "display_name": "Python 3"
    },
    "language_info": {
      "name": "python"
    }
  },
  "cells": [
    {
      "cell_type": "markdown",
      "metadata": {
        "id": "view-in-github",
        "colab_type": "text"
      },
      "source": [
        "<a href=\"https://colab.research.google.com/github/NguyenDuyTan0302/BaiTapNNLT/blob/master/Numpy3.ipynb\" target=\"_parent\"><img src=\"https://colab.research.google.com/assets/colab-badge.svg\" alt=\"Open In Colab\"/></a>"
      ]
    },
    {
      "cell_type": "markdown",
      "source": [
        "1.Trình bày cú pháp của hàm apply_along_axis và giải thích ý nghĩa từng tham số.\n",
        "*Cú pháp: apply_along_axis(func1d, axis, arr, *args, **kwargs)\n",
        "*Ý nghĩa:\n",
        "func1d: Hàm này phải chấp nhận mảng 1 chiều, áp dụng theo hàng hoặc cột của mảng\n",
        "\n",
        "axis: Xác định trục\n",
        "\n",
        "arr: Mảng đầu vào\n",
        "\n",
        "kwargs: Các đối số bổ sung cho func1d"
      ],
      "metadata": {
        "id": "HxbL0L4RlfmX"
      }
    },
    {
      "cell_type": "markdown",
      "source": [
        "2.Tạo 1 ma trận 15x17 có giá trị ngẫu nhiên bằng random"
      ],
      "metadata": {
        "id": "-d_bKkU-_iAX"
      }
    },
    {
      "cell_type": "code",
      "execution_count": 2,
      "metadata": {
        "colab": {
          "base_uri": "https://localhost:8080/"
        },
        "id": "zN5h61MrWNWo",
        "outputId": "686b98fc-6b6d-4b31-c6df-2af21e9c1905"
      },
      "outputs": [
        {
          "output_type": "stream",
          "name": "stdout",
          "text": [
            "[[ 8 14  8  8  4 15 18  1  4 17  7 15  6  6 10  7  8]\n",
            " [ 0 15  5 10 18 12 15 19  4 10  1  9  9 13 12  2  5]\n",
            " [11  3 15 18  4  7 17  5 19 16  6  2  9  8 14  1 13]\n",
            " [12 16  1  1 14  5 11 14 11 16 15 15  0  6  2  8 18]\n",
            " [16  5  9  5  1  7  1 10  2 13  3  0  2 10 16 15 14]\n",
            " [18 11 12  9  2 10 11 15  1 14 14 14 17 15  1  8  3]\n",
            " [18 13 15  2 14 19 14  1 11  6 12  0  9 14  5 16  9]\n",
            " [11 10 13 14 11  7 15  3  8 13 18 18  8  9  1  4  1]\n",
            " [18 13 10  6  1  4 10 14 18 19  0  5  6 16 18  3  3]\n",
            " [18  6 11 17  6 12  2  8  4  8  4 17 13 19  3  9 19]\n",
            " [ 1  9  4  2 10  7 18 10 13 14 14 15  4 19 19 19  7]\n",
            " [ 9  0  0 17  0  4 12  4  2 17 11 12 19  1 16 19 17]\n",
            " [ 2 16 12  1 19  0  4 10 19  6  0  5 17  1  7 15 12]\n",
            " [ 6 15 11 15  8 18 10 10  0 18  1  3  8 17 10 17 10]\n",
            " [18  4  4 11 17 13  5 18 11  2 10  7 13  9 14 14 12]]\n"
          ]
        }
      ],
      "source": [
        "import numpy as np\n",
        "\n",
        "A=np.random.randint(0,20,(15,17))\n",
        "print(A)"
      ]
    },
    {
      "cell_type": "markdown",
      "source": [
        "3. Xây dựng hàm tìm giá trị lớn nhất bằng np.max rồi dùng apply_along_axis() để áp dụng cho từng hàng thì ta đưa tham số 1"
      ],
      "metadata": {
        "id": "6QTAXqo0_-Nu"
      }
    },
    {
      "cell_type": "code",
      "source": [
        "vector_a =np.array(A)\n",
        "def tim_gia_tri_lon_nhat(vector_a):\n",
        "  return np.max(vector_a)\n",
        "np.apply_along_axis(tim_gia_tri_lon_nhat,1,vector_a)"
      ],
      "metadata": {
        "colab": {
          "base_uri": "https://localhost:8080/"
        },
        "id": "jhucnB_2YlwG",
        "outputId": "5b6be52a-a96c-4325-cfb7-344f0da3519e"
      },
      "execution_count": 3,
      "outputs": [
        {
          "output_type": "execute_result",
          "data": {
            "text/plain": [
              "array([18, 19, 19, 18, 16, 18, 19, 18, 19, 19, 19, 19, 19, 18, 18])"
            ]
          },
          "metadata": {},
          "execution_count": 3
        }
      ]
    },
    {
      "cell_type": "markdown",
      "source": [
        "4.Tương tự như câu 3 nhưng thay np.max bằng np.min.\n",
        "Áp dụng với cột thì dùng 0 trong apply-along_axis()"
      ],
      "metadata": {
        "id": "K9TeKpHRANCl"
      }
    },
    {
      "cell_type": "code",
      "source": [
        "vector_a =np.array(A)\n",
        "def tim_gia_tri_nho_nhat(vector_a):\n",
        "  return np.min(vector_a)\n",
        "np.apply_along_axis(tim_gia_tri_nho_nhat,0,vector_a)"
      ],
      "metadata": {
        "id": "IOGn-XXtle05",
        "colab": {
          "base_uri": "https://localhost:8080/"
        },
        "outputId": "35024688-800f-4504-a479-b52979760ffc"
      },
      "execution_count": 4,
      "outputs": [
        {
          "output_type": "execute_result",
          "data": {
            "text/plain": [
              "array([0, 0, 0, 1, 0, 0, 1, 1, 0, 2, 0, 0, 0, 1, 1, 1, 1])"
            ]
          },
          "metadata": {},
          "execution_count": 4
        }
      ]
    },
    {
      "cell_type": "markdown",
      "source": [
        "5.Tương tự như câu 4 nhưng thay np.max() bằng np.sum()"
      ],
      "metadata": {
        "id": "f-4K_b0sAY9o"
      }
    },
    {
      "cell_type": "code",
      "source": [
        "vector_a =np.array(A)\n",
        "def tinh_tong(vector_a):\n",
        "  return np.sum(vector_a)\n",
        "np.apply_along_axis(tinh_tong,1,vector_a)"
      ],
      "metadata": {
        "colab": {
          "base_uri": "https://localhost:8080/"
        },
        "id": "fxLom78OAdwN",
        "outputId": "ed5ea9d5-9ab9-41ef-c249-81d157174ca7"
      },
      "execution_count": 5,
      "outputs": [
        {
          "output_type": "execute_result",
          "data": {
            "text/plain": [
              "array([156, 159, 168, 165, 129, 175, 178, 164, 164, 176, 185, 160, 146,\n",
              "       177, 182])"
            ]
          },
          "metadata": {},
          "execution_count": 5
        }
      ]
    },
    {
      "cell_type": "markdown",
      "source": [
        "6. Trong hàm tinh_tong_2 ta tạo 1 vòng lặp để cộng các số lẻ"
      ],
      "metadata": {
        "id": "FAuIsNQUA16b"
      }
    },
    {
      "cell_type": "code",
      "source": [
        "def tinh_tong_2(a):\n",
        "  sum  = 0\n",
        "  for i in range(len(a)):\n",
        "    if (i % 2 != 0):\n",
        "      sum  = sum +a[i]\n",
        "  return sum\n",
        "print(\"Tổng các phần tử có chỉ số lẻ\")\n",
        "print (np.apply_along_axis(tinh_tong_2, 1, vector_a))"
      ],
      "metadata": {
        "id": "iGDWaI01A2Pr",
        "colab": {
          "base_uri": "https://localhost:8080/"
        },
        "outputId": "43100bb7-fab7-4eac-f209-3be8da5c8124"
      },
      "execution_count": 6,
      "outputs": [
        {
          "output_type": "stream",
          "name": "stdout",
          "text": [
            "Tổng các phần tử có chỉ số lẻ\n",
            "[ 83  90  60  81  65  96  71  78  80  96  95  74  54 113  78]\n"
          ]
        }
      ]
    }
  ]
}