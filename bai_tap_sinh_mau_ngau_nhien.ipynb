{
  "cells": [
    {
      "cell_type": "markdown",
      "metadata": {
        "id": "view-in-github",
        "colab_type": "text"
      },
      "source": [
        "<a href=\"https://colab.research.google.com/github/NguyenDuyTan0302/BaiTapNNLT/blob/master/bai_tap_sinh_mau_ngau_nhien.ipynb\" target=\"_parent\"><img src=\"https://colab.research.google.com/assets/colab-badge.svg\" alt=\"Open In Colab\"/></a>"
      ]
    },
    {
      "cell_type": "markdown",
      "metadata": {
        "id": "2r_49lSkzo6C"
      },
      "source": [
        "Sử dụng thư viện Numpy\n",
        "\n",
        "1. Sinh mẫu ngẫu nhiên bằng hàm arange trong khoảng [-15, 27] với khoảng cách là 0.7 và in kết quả ra màn hình"
      ]
    },
    {
      "cell_type": "code",
      "source": [
        "import numpy as np"
      ],
      "metadata": {
        "id": "mothNL-_z2iV"
      },
      "execution_count": 2,
      "outputs": []
    },
    {
      "cell_type": "code",
      "execution_count": 3,
      "metadata": {
        "colab": {
          "base_uri": "https://localhost:8080/"
        },
        "id": "23scGn7Azo6K",
        "outputId": "ab2d8ab8-363d-40b7-83cb-97e23060eb18"
      },
      "outputs": [
        {
          "output_type": "execute_result",
          "data": {
            "text/plain": [
              "array([-15. , -14.3, -13.6, -12.9, -12.2, -11.5, -10.8, -10.1,  -9.4,\n",
              "        -8.7,  -8. ,  -7.3,  -6.6,  -5.9,  -5.2,  -4.5,  -3.8,  -3.1,\n",
              "        -2.4,  -1.7,  -1. ,  -0.3,   0.4,   1.1,   1.8,   2.5,   3.2,\n",
              "         3.9,   4.6,   5.3,   6. ,   6.7,   7.4,   8.1,   8.8,   9.5,\n",
              "        10.2,  10.9,  11.6,  12.3,  13. ,  13.7,  14.4,  15.1,  15.8,\n",
              "        16.5,  17.2,  17.9,  18.6,  19.3,  20. ,  20.7,  21.4,  22.1,\n",
              "        22.8,  23.5,  24.2,  24.9,  25.6,  26.3,  27. ])"
            ]
          },
          "metadata": {},
          "execution_count": 3
        }
      ],
      "source": [
        "np.arange( -15, 27, 0.7)"
      ]
    },
    {
      "cell_type": "markdown",
      "metadata": {
        "id": "yU1STYBAzo6N"
      },
      "source": [
        "2. Sinh mẫu ngẫu nhiên theo phân phối chuẩn với mean = 2.7 std = 1.2 và size = 40\n",
        "In kết quả ra màn hình"
      ]
    },
    {
      "cell_type": "code",
      "execution_count": 4,
      "metadata": {
        "colab": {
          "base_uri": "https://localhost:8080/"
        },
        "id": "H_hGMD6nzo6P",
        "outputId": "8ef0b1d8-f427-42b0-c8e8-2d4f27e10302"
      },
      "outputs": [
        {
          "output_type": "execute_result",
          "data": {
            "text/plain": [
              "array([ 1.52225711,  3.86807114,  3.08291748,  0.80485447,  0.57265194,\n",
              "        1.84532352,  3.54299706,  3.66056808,  1.3008932 ,  2.95763556,\n",
              "        4.25453091,  3.05359986,  3.98511871,  0.17732634,  2.7885157 ,\n",
              "        4.26274481,  3.52746145,  0.8579214 ,  4.44638335,  3.35734378,\n",
              "        2.90688171,  2.20323628,  2.81547338,  2.33760768,  3.02049933,\n",
              "        0.3805667 ,  3.60995894,  3.565499  ,  3.18929695,  2.94739855,\n",
              "        1.47869894, -0.85367955,  2.23258196,  2.71697128,  4.08074279,\n",
              "        2.17661191,  3.36898596,  4.01810058,  3.29127694,  1.48830855])"
            ]
          },
          "metadata": {},
          "execution_count": 4
        }
      ],
      "source": [
        "np.random.normal(loc = 2.7, scale = 1.2, size = 40)"
      ]
    },
    {
      "cell_type": "markdown",
      "metadata": {
        "id": "kLPsiCNUzo6P"
      },
      "source": [
        "3. Sinh mẫu ngẫu nhiên từ vector ['Viet Nam', 'Britain', 'France', 'Russia', 'Singapore'] \n",
        "\n",
        "với kích thước là 17 theo phân phối chuẩn"
      ]
    },
    {
      "cell_type": "code",
      "execution_count": 5,
      "metadata": {
        "colab": {
          "base_uri": "https://localhost:8080/"
        },
        "id": "gkEP5mZwzo6R",
        "outputId": "d4f7bd31-7cb6-4337-91e5-8c2838f5d806"
      },
      "outputs": [
        {
          "output_type": "execute_result",
          "data": {
            "text/plain": [
              "array(['Singapore', 'Britain', 'France', 'Viet Nam', 'Britain', 'Russia',\n",
              "       'Viet Nam', 'Viet Nam', 'France', 'Russia', 'Singapore',\n",
              "       'Viet Nam', 'Britain', 'Viet Nam', 'France', 'Viet Nam', 'Britain'],\n",
              "      dtype='<U9')"
            ]
          },
          "metadata": {},
          "execution_count": 5
        }
      ],
      "source": [
        "np.random.choice(['Viet Nam', 'Britain', 'France', 'Russia', 'Singapore'],size = 17)"
      ]
    },
    {
      "cell_type": "markdown",
      "metadata": {
        "id": "0UdZCPYdzo6S"
      },
      "source": [
        "4. Sinh mẫu ngẫu nhiên ở câu 3 nhưng không theo phân phối chuẩn mà theo 1 vector đặc tả giá trị xác suất do bạn chọn"
      ]
    },
    {
      "cell_type": "code",
      "execution_count": 6,
      "metadata": {
        "colab": {
          "base_uri": "https://localhost:8080/"
        },
        "id": "6QyBD_71zo6W",
        "outputId": "67f27e81-5133-4ee8-d9ad-a34973ec6e84"
      },
      "outputs": [
        {
          "output_type": "execute_result",
          "data": {
            "text/plain": [
              "array(['Russia', 'Singapore', 'Britain', 'Britain', 'Viet Nam', 'Britain',\n",
              "       'Singapore', 'Russia', 'Viet Nam', 'France', 'Britain',\n",
              "       'Singapore', 'Viet Nam', 'France', 'Russia', 'Singapore', 'France'],\n",
              "      dtype='<U9')"
            ]
          },
          "metadata": {},
          "execution_count": 6
        }
      ],
      "source": [
        "np.random.choice(['Viet Nam', 'Britain', 'France', 'Russia', 'Singapore'],size = 17,p= [0.2, 0.2, 0.2, 0.2, 0.2])"
      ]
    },
    {
      "cell_type": "markdown",
      "metadata": {
        "id": "L2e8Unqnzo6Y"
      },
      "source": [
        "Sử dụng thư việc scipy.stats để sinh mẫu ngẫu nhiên\n",
        "\n",
        "1. Sinh mẫu ngẫu nhiên theo phân phối chuẩn với mean = 12.7, std = 2.6 và size = 30. In kết quả ra màn hình"
      ]
    },
    {
      "cell_type": "code",
      "source": [
        "from scipy import stats"
      ],
      "metadata": {
        "id": "vhGMuL1e0fy_"
      },
      "execution_count": 7,
      "outputs": []
    },
    {
      "cell_type": "code",
      "execution_count": 9,
      "metadata": {
        "colab": {
          "base_uri": "https://localhost:8080/"
        },
        "id": "HqxncfaDzo6Z",
        "outputId": "fb1d0bb0-46a1-47f1-81db-0e8cb970fae2"
      },
      "outputs": [
        {
          "output_type": "execute_result",
          "data": {
            "text/plain": [
              "array([13.6190418 , 12.16107334,  9.8927868 , 12.38001845, 11.68344632,\n",
              "       15.9634517 , 15.1625278 , 10.0419922 , 15.73463776, 11.21286029,\n",
              "       13.04615749, 15.82713407, 10.03564229, 13.11703782,  9.76076425,\n",
              "        7.65262083, 15.26515432, 12.77339115, 10.56184425,  8.57496542,\n",
              "       11.65617067, 16.18966614, 13.74641964, 11.73082032, 10.95273907,\n",
              "       12.97511142,  8.67700598, 16.19649693, 14.00829187, 15.80531157])"
            ]
          },
          "metadata": {},
          "execution_count": 9
        }
      ],
      "source": [
        "stats.norm.rvs(loc = 12.7, scale = 2.6, size = 30)"
      ]
    },
    {
      "cell_type": "markdown",
      "metadata": {
        "id": "goHUa1blzo6a"
      },
      "source": [
        "2. Hãy sinh một mẫu ngẫu nhiên theo phân phối Poisson"
      ]
    },
    {
      "cell_type": "code",
      "execution_count": 10,
      "metadata": {
        "colab": {
          "base_uri": "https://localhost:8080/"
        },
        "id": "RmTVPRnqzo6a",
        "outputId": "22b9be4c-d277-44e2-afcf-d95aa2fd1b87"
      },
      "outputs": [
        {
          "output_type": "execute_result",
          "data": {
            "text/plain": [
              "array([56, 53, 50, 43, 42, 57, 55, 62, 51, 47, 49, 52, 53, 57, 61, 39, 40,\n",
              "       34, 51, 43, 47, 46, 46, 48, 57, 48, 58, 52, 51, 32, 38, 46, 46, 47,\n",
              "       60, 60, 52, 52, 46, 46, 51, 49, 47, 46, 52, 37, 56, 52, 47, 46, 54,\n",
              "       34, 40, 60, 44, 40, 49, 41, 53, 44, 44, 62, 51, 51, 51, 52, 41, 54,\n",
              "       49, 50, 39, 51, 43, 46, 55, 48, 58, 56, 52, 52, 55, 49, 50, 42, 58,\n",
              "       49, 40, 39, 37, 51, 53, 47, 57, 48, 48, 58, 50, 70, 59, 43])"
            ]
          },
          "metadata": {},
          "execution_count": 10
        }
      ],
      "source": [
        "np.random.seed(10)\n",
        "a= stats.poisson.rvs(mu = 50,size = 100)\n",
        "a"
      ]
    }
  ],
  "metadata": {
    "kernelspec": {
      "display_name": "Python 3",
      "language": "python",
      "name": "python3"
    },
    "language_info": {
      "codemirror_mode": {
        "name": "ipython",
        "version": 3
      },
      "file_extension": ".py",
      "mimetype": "text/x-python",
      "name": "python",
      "nbconvert_exporter": "python",
      "pygments_lexer": "ipython3",
      "version": "3.7.3"
    },
    "colab": {
      "name": "bai-tap-sinh-mau-ngau-nhien.ipynb",
      "provenance": [],
      "include_colab_link": true
    }
  },
  "nbformat": 4,
  "nbformat_minor": 0
}