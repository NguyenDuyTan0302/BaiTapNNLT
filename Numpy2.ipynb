{
  "nbformat": 4,
  "nbformat_minor": 0,
  "metadata": {
    "colab": {
      "name": "Numpy2.ipynb",
      "provenance": [],
      "authorship_tag": "ABX9TyNPrsJPcawZHIJhOsPKlIRC",
      "include_colab_link": true
    },
    "kernelspec": {
      "name": "python3",
      "display_name": "Python 3"
    },
    "language_info": {
      "name": "python"
    }
  },
  "cells": [
    {
      "cell_type": "markdown",
      "metadata": {
        "id": "view-in-github",
        "colab_type": "text"
      },
      "source": [
        "<a href=\"https://colab.research.google.com/github/NguyenDuyTan0302/BaiTapNNLT/blob/master/Numpy2.ipynb\" target=\"_parent\"><img src=\"https://colab.research.google.com/assets/colab-badge.svg\" alt=\"Open In Colab\"/></a>"
      ]
    },
    {
      "cell_type": "markdown",
      "source": [
        "Thêm thư viện Numpy"
      ],
      "metadata": {
        "id": "tNps5R8U5IF_"
      }
    },
    {
      "cell_type": "code",
      "execution_count": 16,
      "metadata": {
        "id": "ylQlsVGs5Cjw"
      },
      "outputs": [],
      "source": [
        "import numpy as np"
      ]
    },
    {
      "cell_type": "markdown",
      "source": [
        " 1.Tạo ma trận ngấu nhiên A bằng hàm random"
      ],
      "metadata": {
        "id": "Dl_yBH9f5L8G"
      }
    },
    {
      "cell_type": "code",
      "source": [
        "A = np.random.random([7,5])\n",
        "print(\"Ma trận A:\\n\",A)"
      ],
      "metadata": {
        "colab": {
          "base_uri": "https://localhost:8080/"
        },
        "id": "vUQbwyfV5MXY",
        "outputId": "68229b34-3457-4d7f-b794-91a6c3e48998"
      },
      "execution_count": null,
      "outputs": [
        {
          "output_type": "stream",
          "name": "stdout",
          "text": [
            "Ma trận A:\n",
            " [[0.02767857 0.50292622 0.22751407 0.16935145 0.2236352 ]\n",
            " [0.28515778 0.36676698 0.33345382 0.68833854 0.11796465]\n",
            " [0.13562998 0.88244842 0.50075509 0.46568836 0.85805518]\n",
            " [0.87134583 0.18493063 0.28547783 0.75278239 0.20070757]\n",
            " [0.60979382 0.30786719 0.52969171 0.66006924 0.17963119]\n",
            " [0.25943277 0.83016416 0.59808195 0.14887443 0.14182165]\n",
            " [0.04662575 0.56097545 0.81663245 0.57700786 0.47290537]]\n"
          ]
        }
      ]
    },
    {
      "cell_type": "markdown",
      "source": [
        "2.Tạo ma trận không A bằng hàm zeros"
      ],
      "metadata": {
        "id": "82zshoHS5Vjm"
      }
    },
    {
      "cell_type": "code",
      "source": [
        "A=np.zeros([6,7])\n",
        "print(\"Ma trận không A:\\n\",A)"
      ],
      "metadata": {
        "colab": {
          "base_uri": "https://localhost:8080/"
        },
        "id": "D64c5pZ45Zee",
        "outputId": "748618b4-f584-4315-a38e-a1c40876534d"
      },
      "execution_count": null,
      "outputs": [
        {
          "output_type": "stream",
          "name": "stdout",
          "text": [
            "Ma trận không A:\n",
            " [[0. 0. 0. 0. 0. 0. 0.]\n",
            " [0. 0. 0. 0. 0. 0. 0.]\n",
            " [0. 0. 0. 0. 0. 0. 0.]\n",
            " [0. 0. 0. 0. 0. 0. 0.]\n",
            " [0. 0. 0. 0. 0. 0. 0.]\n",
            " [0. 0. 0. 0. 0. 0. 0.]]\n"
          ]
        }
      ]
    },
    {
      "cell_type": "markdown",
      "source": [
        "3.Tạo ma trận vuông A 7x7 bằng hàm random với 2 giá trị hàng và cột được thêm vào bằng nhau bằng 7"
      ],
      "metadata": {
        "id": "8VG0M2DR5oZm"
      }
    },
    {
      "cell_type": "code",
      "source": [
        "A=np.random.randint(1,20,[7,7])\n",
        "print(\"Ma trận A:\\n\",A)"
      ],
      "metadata": {
        "colab": {
          "base_uri": "https://localhost:8080/"
        },
        "id": "ZPedOrqv5owg",
        "outputId": "02de48d6-26f0-4c58-8662-7278818af190"
      },
      "execution_count": null,
      "outputs": [
        {
          "output_type": "stream",
          "name": "stdout",
          "text": [
            "Ma trận A:\n",
            " [[ 2 10 10 14 15  9 16]\n",
            " [ 4 19 18  9 12 16  1]\n",
            " [ 3  2  9  6 12 16 13]\n",
            " [ 3  1 10  4  1  3 11]\n",
            " [ 7  2 10 10 13  8  4]\n",
            " [12 17 10  9 10  4  9]\n",
            " [15  3  3  5 15  5  4]]\n"
          ]
        }
      ]
    },
    {
      "cell_type": "markdown",
      "source": [
        "4.Đầu tiên tạo ma trận 0 A với kích thước 6x6 \n",
        "Sau đó tạo giá trị cho đường chéo đơn vị = 15 bằng hàm fill_diagonal"
      ],
      "metadata": {
        "id": "tFGxslZ357ge"
      }
    },
    {
      "cell_type": "code",
      "source": [
        "A = np.zeros([6,6])\n",
        "np.fill_diagonal(A,val=15)\n",
        "print(\"Ma trận chéo A:\\n\",A)"
      ],
      "metadata": {
        "colab": {
          "base_uri": "https://localhost:8080/"
        },
        "id": "2Cam3LN06B7b",
        "outputId": "5eaadbd3-3c9e-4fb9-81cc-5e9f1cc137f4"
      },
      "execution_count": null,
      "outputs": [
        {
          "output_type": "stream",
          "name": "stdout",
          "text": [
            "Ma trận chéo A:\n",
            " [[15.  0.  0.  0.  0.  0.]\n",
            " [ 0. 15.  0.  0.  0.  0.]\n",
            " [ 0.  0. 15.  0.  0.  0.]\n",
            " [ 0.  0.  0. 15.  0.  0.]\n",
            " [ 0.  0.  0.  0. 15.  0.]\n",
            " [ 0.  0.  0.  0.  0. 15.]]\n"
          ]
        }
      ]
    },
    {
      "cell_type": "markdown",
      "source": [
        "5.Tạo ma trận ngầu nhiên A sau đó biến nó thành ma trận tam giác bằng hàm triu"
      ],
      "metadata": {
        "id": "kTubHAaB6Bck"
      }
    },
    {
      "cell_type": "code",
      "source": [
        "A = np.random.randint(1,10,[8,8])\n",
        "print(\"Ma trận tam giác trên A:\\n\",np.triu(A,k=0))"
      ],
      "metadata": {
        "colab": {
          "base_uri": "https://localhost:8080/"
        },
        "id": "f5RpH9My6R-b",
        "outputId": "b6ee8571-07bf-48f7-d238-efa1386b836b"
      },
      "execution_count": null,
      "outputs": [
        {
          "output_type": "stream",
          "name": "stdout",
          "text": [
            "Ma trận tam giác trên A:\n",
            " [[3 7 4 5 8 1 7 7]\n",
            " [0 4 7 9 2 2 9 9]\n",
            " [0 0 4 4 3 9 7 3]\n",
            " [0 0 0 9 5 7 7 1]\n",
            " [0 0 0 0 7 9 1 5]\n",
            " [0 0 0 0 0 3 7 1]\n",
            " [0 0 0 0 0 0 9 2]\n",
            " [0 0 0 0 0 0 0 4]]\n"
          ]
        }
      ]
    },
    {
      "cell_type": "markdown",
      "source": [
        "6.Tương tự ở trên nhưng thay triu bằng tril để tạo nên ma trận tam giác dưới"
      ],
      "metadata": {
        "id": "DNoaVFwN6fQT"
      }
    },
    {
      "cell_type": "code",
      "source": [
        "A = np.random.randint(1,10,[8,8])\n",
        "print(\"Ma trận tam giác dưới A:\\n\",np.tril(A,k=0))"
      ],
      "metadata": {
        "colab": {
          "base_uri": "https://localhost:8080/"
        },
        "id": "EYpwicw86flk",
        "outputId": "18782bd5-2cb0-4535-f8aa-249622c1d6f1"
      },
      "execution_count": null,
      "outputs": [
        {
          "output_type": "stream",
          "name": "stdout",
          "text": [
            "Ma trận tam giác dưới A:\n",
            " [[9 0 0 0 0 0 0 0]\n",
            " [5 1 0 0 0 0 0 0]\n",
            " [5 2 2 0 0 0 0 0]\n",
            " [6 3 4 4 0 0 0 0]\n",
            " [8 1 7 6 8 0 0 0]\n",
            " [6 5 1 5 6 1 0 0]\n",
            " [1 2 2 4 6 6 2 0]\n",
            " [2 3 3 3 8 8 2 1]]\n"
          ]
        }
      ]
    },
    {
      "cell_type": "markdown",
      "source": [
        "7.Tạo ma trận đơn vị có số chiều bằng 9 với hàm identity"
      ],
      "metadata": {
        "id": "fHZNRZVj6opy"
      }
    },
    {
      "cell_type": "code",
      "source": [
        "print(\"Ma trận đơn vị I9:\\n\",np.identity(9))"
      ],
      "metadata": {
        "colab": {
          "base_uri": "https://localhost:8080/"
        },
        "id": "QmBMsbmA6oRC",
        "outputId": "26ea2d1a-ebda-4c85-d746-f2408994fdc7"
      },
      "execution_count": null,
      "outputs": [
        {
          "output_type": "stream",
          "name": "stdout",
          "text": [
            "Ma trận đơn vị I9:\n",
            " [[1. 0. 0. 0. 0. 0. 0. 0. 0.]\n",
            " [0. 1. 0. 0. 0. 0. 0. 0. 0.]\n",
            " [0. 0. 1. 0. 0. 0. 0. 0. 0.]\n",
            " [0. 0. 0. 1. 0. 0. 0. 0. 0.]\n",
            " [0. 0. 0. 0. 1. 0. 0. 0. 0.]\n",
            " [0. 0. 0. 0. 0. 1. 0. 0. 0.]\n",
            " [0. 0. 0. 0. 0. 0. 1. 0. 0.]\n",
            " [0. 0. 0. 0. 0. 0. 0. 1. 0.]\n",
            " [0. 0. 0. 0. 0. 0. 0. 0. 1.]]\n"
          ]
        }
      ]
    },
    {
      "cell_type": "markdown",
      "source": [
        "8.Tạo 2 ma trận ngẫu nhiên cùng kích thước rồi cộng bằng +"
      ],
      "metadata": {
        "id": "JbJHlfRs62fy"
      }
    },
    {
      "cell_type": "code",
      "source": [
        "#cộng hai ma trận\n",
        "A = np.random.randint(1,10,[6,7])\n",
        "B = np.random.randint(1,10,[6,7])\n",
        "print(\"A+B:\\n\",A+B)"
      ],
      "metadata": {
        "colab": {
          "base_uri": "https://localhost:8080/"
        },
        "id": "s2cBylfE62_i",
        "outputId": "03a1302a-f9e3-4004-af46-ce77558d0463"
      },
      "execution_count": null,
      "outputs": [
        {
          "output_type": "stream",
          "name": "stdout",
          "text": [
            "A+B:\n",
            " [[ 8 10 11 12 13  9 15]\n",
            " [12 14  6 16  9  4 12]\n",
            " [14  9 12 11  7  9 10]\n",
            " [ 9  8 13 16 11  2 13]\n",
            " [12  9 11  3 13  9  8]\n",
            " [ 8 13  8  7 12  9 13]]\n"
          ]
        }
      ]
    },
    {
      "cell_type": "markdown",
      "source": [
        "Tạo ma trận ngẫu nhiên A rồi nhân vô hướng A với n bằng *"
      ],
      "metadata": {
        "id": "pEo2l0kx7AfD"
      }
    },
    {
      "cell_type": "code",
      "source": [
        "#Nhân vô hướng\n",
        "A = np.random.randint(1,5,[5,8])\n",
        "print(A)\n",
        "n = int(input(\"Nhân ma trận với: \"))\n",
        "print(\"Kết quả của phép nhân vô hướng A với\",n,\"là\\n\",A*n)"
      ],
      "metadata": {
        "colab": {
          "base_uri": "https://localhost:8080/"
        },
        "id": "8tQGq8a07A76",
        "outputId": "0acca787-e47e-48b0-8473-708e631b14c7"
      },
      "execution_count": null,
      "outputs": [
        {
          "output_type": "stream",
          "name": "stdout",
          "text": [
            "[[4 3 3 1 4 4 1 3]\n",
            " [2 3 2 2 4 2 4 4]\n",
            " [2 3 3 3 4 2 4 4]\n",
            " [4 1 4 3 4 1 1 4]\n",
            " [2 3 4 3 3 1 3 4]]\n",
            "Nhân ma trận với: 3\n",
            "Kết quả của phép nhân vô hướng A với 3 là\n",
            " [[12  9  9  3 12 12  3  9]\n",
            " [ 6  9  6  6 12  6 12 12]\n",
            " [ 6  9  9  9 12  6 12 12]\n",
            " [12  3 12  9 12  3  3 12]\n",
            " [ 6  9 12  9  9  3  9 12]]\n"
          ]
        }
      ]
    },
    {
      "cell_type": "markdown",
      "source": [
        "Tạo ma trận ngẫu nhiên A rồi chuyển vị"
      ],
      "metadata": {
        "id": "Bp66PQuA7LbB"
      }
    },
    {
      "cell_type": "code",
      "source": [
        "#Chuyển vị\n",
        "A = np.random.randint(1,10,[3,7])\n",
        "print(\"Ma trận ban đầu:\\n\",A)\n",
        "print(\"Chuyển vị:\\n\",A.T)"
      ],
      "metadata": {
        "colab": {
          "base_uri": "https://localhost:8080/"
        },
        "id": "cMI4Uha77Lri",
        "outputId": "f8bae5b2-07da-49b6-e31f-73a1b6909524"
      },
      "execution_count": null,
      "outputs": [
        {
          "output_type": "stream",
          "name": "stdout",
          "text": [
            "Ma trận ban đầu:\n",
            " [[6 4 3 9 2 4 5]\n",
            " [6 4 6 2 7 2 1]\n",
            " [9 3 8 9 1 1 4]]\n",
            "Chuyển vị:\n",
            " [[6 6 9]\n",
            " [4 4 3]\n",
            " [3 6 8]\n",
            " [9 2 9]\n",
            " [2 7 1]\n",
            " [4 2 1]\n",
            " [5 1 4]]\n"
          ]
        }
      ]
    },
    {
      "cell_type": "markdown",
      "source": [
        "Tạo ngẫu nhiên 2 ma trận với số cột của A bằng số hàng của B sao đó nhân A với B bằng A.dot(B)"
      ],
      "metadata": {
        "id": "nTZLoiUq7U8Z"
      }
    },
    {
      "cell_type": "code",
      "source": [
        "#Nhân hai ma trận\n",
        "A = np.random.randint(1,5,[5,7])\n",
        "print(\"Ma trận A:\\n\", A)\n",
        "B = np.random.randint(1,5,[7,3])\n",
        "print(\"Ma trận B:\\n\", B)\n",
        "print(\"Nhân hai ma trận A và B:\\n\",A.dot(B))"
      ],
      "metadata": {
        "colab": {
          "base_uri": "https://localhost:8080/"
        },
        "id": "ACjd_Kwb7VO9",
        "outputId": "3ef057f5-a9e0-49d0-abda-a2da6b4673e1"
      },
      "execution_count": null,
      "outputs": [
        {
          "output_type": "stream",
          "name": "stdout",
          "text": [
            "Ma trận A:\n",
            " [[1 1 4 4 3 4 3]\n",
            " [3 3 2 3 2 1 2]\n",
            " [1 3 2 4 3 1 4]\n",
            " [2 1 2 1 4 2 1]\n",
            " [1 2 4 1 4 1 2]]\n",
            "Ma trận B:\n",
            " [[4 3 3]\n",
            " [1 3 4]\n",
            " [4 1 4]\n",
            " [2 2 3]\n",
            " [1 3 1]\n",
            " [3 3 4]\n",
            " [4 2 1]]\n",
            "Nhân hai ma trận A và B:\n",
            " [[56 45 57]\n",
            " [42 39 46]\n",
            " [45 42 46]\n",
            " [33 33 34]\n",
            " [39 34 40]]\n"
          ]
        }
      ]
    },
    {
      "cell_type": "markdown",
      "source": [
        "Tạo ma trận ngẫu nhiên A rồi tìm nghịch đảo của nó bằng np.linalg.pinv(A)"
      ],
      "metadata": {
        "id": "o7ctRPzv7jnI"
      }
    },
    {
      "cell_type": "code",
      "source": [
        "#Ma trận nghịch đảo\n",
        "A = np.random.randint(1,5,[5,5])\n",
        "A_i = np.linalg.pinv(A)\n",
        "print(\"Ma trận ban đầu\\n\",A)\n",
        "print(\"Ma trận nghịch đảo\\n\",A_i)"
      ],
      "metadata": {
        "id": "f-_M1gyy7j4Z"
      },
      "execution_count": null,
      "outputs": []
    },
    {
      "cell_type": "markdown",
      "source": [
        "9.Tạo ma vecto hàng và vecto cột"
      ],
      "metadata": {
        "id": "hjabp1zh7u14"
      }
    },
    {
      "cell_type": "code",
      "source": [
        "#Vector hàng\n",
        "A = np.random.randint(1,10,[1,8])\n",
        "print(A)\n",
        "A.shape\n",
        "#Vector cột\n",
        "A = np.random.randint(1,10,[8,1])\n",
        "print(A)\n",
        "A.shape"
      ],
      "metadata": {
        "colab": {
          "base_uri": "https://localhost:8080/"
        },
        "id": "i22oOS6U7vMf",
        "outputId": "2431e398-2635-440e-c51d-309dd59e50b8"
      },
      "execution_count": null,
      "outputs": [
        {
          "output_type": "stream",
          "name": "stdout",
          "text": [
            "[[1 6 8 9 7 9 3 5]]\n",
            "[[3]\n",
            " [5]\n",
            " [1]\n",
            " [7]\n",
            " [1]\n",
            " [4]\n",
            " [4]\n",
            " [7]]\n"
          ]
        },
        {
          "output_type": "execute_result",
          "data": {
            "text/plain": [
              "(8, 1)"
            ]
          },
          "metadata": {},
          "execution_count": 14
        }
      ]
    },
    {
      "cell_type": "markdown",
      "source": [
        "10.Giải hệ phương trình tuyến tính bằng cách tìm ma trận nghịch đảo của A bằng np.linalg.pinv() rồi nhân ma trận nghịch đảo của A cho y bằng np.dot()"
      ],
      "metadata": {
        "id": "vUH3mJlt8OSY"
      }
    },
    {
      "cell_type": "code",
      "source": [
        "import numpy as np\n",
        "A = np.random.randint(1,10,[3,3])\n",
        "y = np.random.randint(1,5)\n",
        "A_i = np.linalg.pinv(A)\n",
        "x = np.dot(A_i, y)\n",
        "print(x)"
      ],
      "metadata": {
        "id": "2sFKaey98OlX",
        "outputId": "74bc9a30-682d-4f8a-f0f8-d23a36f6ee67",
        "colab": {
          "base_uri": "https://localhost:8080/"
        }
      },
      "execution_count": 17,
      "outputs": [
        {
          "output_type": "stream",
          "name": "stdout",
          "text": [
            "[[-0.48484848 -2.96969697  2.06060606]\n",
            " [ 0.18181818  2.36363636 -1.27272727]\n",
            " [ 0.36363636  0.72727273 -0.54545455]]\n"
          ]
        }
      ]
    }
  ]
}