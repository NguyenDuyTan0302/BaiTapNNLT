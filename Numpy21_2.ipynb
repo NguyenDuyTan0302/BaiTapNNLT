{
  "nbformat": 4,
  "nbformat_minor": 0,
  "metadata": {
    "colab": {
      "name": "Numpy21/2.ipynb",
      "provenance": [],
      "authorship_tag": "ABX9TyPEuKJ76CT4l6zVBzNh+uol",
      "include_colab_link": true
    },
    "kernelspec": {
      "name": "python3",
      "display_name": "Python 3"
    },
    "language_info": {
      "name": "python"
    }
  },
  "cells": [
    {
      "cell_type": "markdown",
      "metadata": {
        "id": "view-in-github",
        "colab_type": "text"
      },
      "source": [
        "<a href=\"https://colab.research.google.com/github/NguyenDuyTan0302/BaiTapNNLT/blob/master/Numpy21_2.ipynb\" target=\"_parent\"><img src=\"https://colab.research.google.com/assets/colab-badge.svg\" alt=\"Open In Colab\"/></a>"
      ]
    },
    {
      "cell_type": "markdown",
      "source": [
        "*Cú pháp: apply_along_axis(func1d, axis, arr, *args, **kwargs)\n",
        "*Ý nghĩa:\n",
        "func1d: Hàm này phải chấp nhận mảng 1 chiều, áp dụng theo hàng hoặc cột của mảng\n",
        "\n",
        "axis: Xác định trục\n",
        "\n",
        "arr: Mảng đầu vào\n",
        "\n",
        "kwargs: Các đối số bổ sung cho func1d"
      ],
      "metadata": {
        "id": "HxbL0L4RlfmX"
      }
    },
    {
      "cell_type": "code",
      "execution_count": null,
      "metadata": {
        "colab": {
          "base_uri": "https://localhost:8080/"
        },
        "id": "zN5h61MrWNWo",
        "outputId": "44075f23-2b4a-4f78-8c98-05e84b8e7511"
      },
      "outputs": [
        {
          "output_type": "stream",
          "name": "stdout",
          "text": [
            "[[ 1  6 19  2  9 17 16 15 11  9 12 12  2  5 13 18  6]\n",
            " [18  7  0 17 11 13  2 15  6 11  0  8  4  0  2 15 13]\n",
            " [ 0 13  1  5 10 11  6  6  1  0  8  5 14  2  6 13  2]\n",
            " [ 6  5  1  4  4 18 15 17  1 11  1 19 11 17  8 17 10]\n",
            " [ 5 14  6  4  2 15 16 13 19  9  7  8 17 16  3 13 12]\n",
            " [ 1  2  0  9  6 13 19 16  8  3  2  9  5  8  9  5  5]\n",
            " [14  8 15  6 15 19  9  1  5 16  0 15 11  4 10  8 14]\n",
            " [ 4 14  1  1  0 17 11 15 16  9 14 18  7 17  6  2 18]\n",
            " [ 8 14  2 11  2 11  5  1 19  6 18 10  5  6 17  6 18]\n",
            " [ 6  1 12 16 16  9  3  9  3  2  2 15  4 18  8 19 15]\n",
            " [ 0 13  1  7  5  8 12 12 12  3  9 16  9 17  5 18 11]\n",
            " [16  5  5 14  9  6  1 15  8  4  8  0 18  2 14 16  9]\n",
            " [19 18 11 19 14 14  2 13  0 18 10 13 18  8  8 17  9]\n",
            " [ 5  2  2  1  2  0 12  5  3  6  8 15  1  1  1  9  6]\n",
            " [15  3 18 19 11 17 13  2 12 12  1  6  7  6  4  0 15]]\n"
          ]
        }
      ],
      "source": [
        "import numpy as np\n",
        "\n",
        "A=np.random.randint(0,20,(15,17))\n",
        "print(A)"
      ]
    },
    {
      "cell_type": "code",
      "source": [
        "A=np.random.randint(0,20,(15,17))\n",
        "def tim_max(a):\n",
        "  return np.max(a)\n",
        "print(np.apply_along_axis(),1,A))\n"
      ],
      "metadata": {
        "colab": {
          "base_uri": "https://localhost:8080/",
          "height": 200
        },
        "id": "jhucnB_2YlwG",
        "outputId": "0559eb89-ebe7-45a4-a943-173e06afde62"
      },
      "execution_count": null,
      "outputs": [
        {
          "output_type": "error",
          "ename": "TypeError",
          "evalue": "ignored",
          "traceback": [
            "\u001b[0;31m---------------------------------------------------------------------------\u001b[0m",
            "\u001b[0;31mTypeError\u001b[0m                                 Traceback (most recent call last)",
            "\u001b[0;32m<ipython-input-27-7bef6ccc6705>\u001b[0m in \u001b[0;36m<module>\u001b[0;34m()\u001b[0m\n\u001b[1;32m      2\u001b[0m \u001b[0;32mdef\u001b[0m \u001b[0mtim_max\u001b[0m\u001b[0;34m(\u001b[0m\u001b[0ma\u001b[0m\u001b[0;34m)\u001b[0m\u001b[0;34m:\u001b[0m\u001b[0;34m\u001b[0m\u001b[0;34m\u001b[0m\u001b[0m\n\u001b[1;32m      3\u001b[0m   \u001b[0;32mreturn\u001b[0m \u001b[0mnp\u001b[0m\u001b[0;34m.\u001b[0m\u001b[0mmax\u001b[0m\u001b[0;34m(\u001b[0m\u001b[0ma\u001b[0m\u001b[0;34m)\u001b[0m\u001b[0;34m\u001b[0m\u001b[0;34m\u001b[0m\u001b[0m\n\u001b[0;32m----> 4\u001b[0;31m \u001b[0mprint\u001b[0m\u001b[0;34m(\u001b[0m\u001b[0mnp\u001b[0m\u001b[0;34m.\u001b[0m\u001b[0mapply_along_axis\u001b[0m\u001b[0;34m(\u001b[0m\u001b[0mmax\u001b[0m\u001b[0;34m(\u001b[0m\u001b[0;34m)\u001b[0m\u001b[0;34m,\u001b[0m\u001b[0;36m1\u001b[0m\u001b[0;34m,\u001b[0m\u001b[0mA\u001b[0m\u001b[0;34m)\u001b[0m\u001b[0;34m)\u001b[0m\u001b[0;34m\u001b[0m\u001b[0;34m\u001b[0m\u001b[0m\n\u001b[0m",
            "\u001b[0;31mTypeError\u001b[0m: max expected 1 arguments, got 0"
          ]
        }
      ]
    },
    {
      "cell_type": "code",
      "source": [
        ""
      ],
      "metadata": {
        "id": "IOGn-XXtle05"
      },
      "execution_count": null,
      "outputs": []
    }
  ]
}