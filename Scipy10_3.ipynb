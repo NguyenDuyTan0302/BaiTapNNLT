{
  "nbformat": 4,
  "nbformat_minor": 0,
  "metadata": {
    "colab": {
      "name": "Scipy10/3.ipynb",
      "provenance": [],
      "authorship_tag": "ABX9TyP7HQDBLWuR8zA/e1p43faq",
      "include_colab_link": true
    },
    "kernelspec": {
      "name": "python3",
      "display_name": "Python 3"
    },
    "language_info": {
      "name": "python"
    }
  },
  "cells": [
    {
      "cell_type": "markdown",
      "metadata": {
        "id": "view-in-github",
        "colab_type": "text"
      },
      "source": [
        "<a href=\"https://colab.research.google.com/github/NguyenDuyTan0302/BaiTapNNLT/blob/master/Scipy10_3.ipynb\" target=\"_parent\"><img src=\"https://colab.research.google.com/assets/colab-badge.svg\" alt=\"Open In Colab\"/></a>"
      ]
    },
    {
      "cell_type": "markdown",
      "source": [
        "Hãy cho biết thư viện nào tính toán ước lượng khoảng?\n",
        "\n",
        "Đó là thư viện scipy.stats để tính toán khoảng tin cậy cho trung bình tổng thể"
      ],
      "metadata": {
        "id": "v4XgJunVIGOt"
      }
    },
    {
      "cell_type": "code",
      "execution_count": 11,
      "metadata": {
        "id": "HfDJMDxQG0_x"
      },
      "outputs": [],
      "source": [
        "import numpy as np\n",
        "import scipy.stats as st\n"
      ]
    },
    {
      "cell_type": "markdown",
      "source": [
        "Sử dụng hàm t.interval() khi đang làm việc với một mẫu nhỏ (n <30)\n"
      ],
      "metadata": {
        "id": "HDJb1npGMAU2"
      }
    },
    {
      "cell_type": "code",
      "source": [
        "data = [12, 12, 13, 13, 15, 16, 17, 22, 23, 25, 26, 27, 28, 28, 29]\n",
        "#Độ tin cậy 95%\n",
        "st.t.interval(alpha=0.95, df=len(data)-1, loc=np.mean(data), scale=st.sem(data)) "
      ],
      "metadata": {
        "colab": {
          "base_uri": "https://localhost:8080/"
        },
        "id": "B4zbpARcJVn4",
        "outputId": "eff5663e-5980-4e30-f01b-4b84e524355a"
      },
      "execution_count": 14,
      "outputs": [
        {
          "output_type": "execute_result",
          "data": {
            "text/plain": [
              "(16.75776979778498, 24.042230202215016)"
            ]
          },
          "metadata": {},
          "execution_count": 14
        }
      ]
    },
    {
      "cell_type": "code",
      "source": [
        "#Độ tin cậy 99%\n",
        "st.t.interval(alpha=0.99, df=len(data)-1, loc=np.mean(data), scale=st.sem(data)) "
      ],
      "metadata": {
        "id": "cWzPgBq8NqEy"
      },
      "execution_count": null,
      "outputs": []
    },
    {
      "cell_type": "markdown",
      "source": [
        "Sử dụng hàm norm.interval() khi đang làm việc với một mẫu lớn (n≥30)"
      ],
      "metadata": {
        "id": "iMODDocTLvLX"
      }
    },
    {
      "cell_type": "code",
      "source": [
        "np.random.seed(0)\n",
        "data = np.random.randint(10, 30, 50)\n",
        "#Độ tin cậy 95%\n",
        "st.norm.interval(alpha=0.95, loc=np.mean(data), scale=st.sem(data))\n"
      ],
      "metadata": {
        "colab": {
          "base_uri": "https://localhost:8080/"
        },
        "id": "opST48bKLu6w",
        "outputId": "0c0b7b45-f997-43b5-d020-683826d0347c"
      },
      "execution_count": 15,
      "outputs": [
        {
          "output_type": "execute_result",
          "data": {
            "text/plain": [
              "(17.400060940568054, 21.079939059431943)"
            ]
          },
          "metadata": {},
          "execution_count": 15
        }
      ]
    },
    {
      "cell_type": "code",
      "source": [
        "#Độ tin cậy 99%\n",
        "st.norm.interval(alpha=0.9, loc=np.mean(data), scale=st.sem(data))"
      ],
      "metadata": {
        "colab": {
          "base_uri": "https://localhost:8080/"
        },
        "id": "Ok-icrGoM-Pk",
        "outputId": "520b7dce-1a72-4c86-d30a-692c17c22974"
      },
      "execution_count": 16,
      "outputs": [
        {
          "output_type": "execute_result",
          "data": {
            "text/plain": [
              "(17.695874465475686, 20.78412553452431)"
            ]
          },
          "metadata": {},
          "execution_count": 16
        }
      ]
    }
  ]
}