{
  "cells": [
    {
      "cell_type": "markdown",
      "metadata": {
        "id": "view-in-github",
        "colab_type": "text"
      },
      "source": [
        "<a href=\"https://colab.research.google.com/github/NguyenDuyTan0302/BaiTapNNLT/blob/master/bai_tap_kiem_dinh_z_t.ipynb\" target=\"_parent\"><img src=\"https://colab.research.google.com/assets/colab-badge.svg\" alt=\"Open In Colab\"/></a>"
      ]
    },
    {
      "cell_type": "markdown",
      "metadata": {
        "id": "t6p9uqXVg0LB"
      },
      "source": [
        "XÂY DỰNG CHƯƠNG TRÌNH KIỂM ĐỊNH Z (HOẶC T) CHO CÁC BÀI TẬP SAU\n",
        "\n",
        "Gợi ý:\n",
        "\n",
        "- Số liệu được sinh ngẫu nhiên theo phân phối chuẩn\n",
        "- Sử dụng gói phần mềm statsmodels để tiến hành kiểm định\n",
        "- Đối với các bài tập kiểm định giả thuyết thì sinh viên cần phát biểu các giả thuyết (bằng tiếng Việt) $H_{0}$ và $H_{a}$ trước khi lập trình kiểm định"
      ]
    },
    {
      "cell_type": "code",
      "source": [
        "from scipy import stats\n",
        "import numpy as np\n",
        "import math\n",
        "from statsmodels.stats.weightstats import ztest"
      ],
      "metadata": {
        "id": "vf9Ukb6Rg1dQ"
      },
      "execution_count": 63,
      "outputs": []
    },
    {
      "cell_type": "markdown",
      "metadata": {
        "id": "JGw-0Ae2g0LH"
      },
      "source": [
        "Bài 1: You’re a Q/C inspector for Gallo. The sample standard deviation for 2-liter bottles is .05 liters.  A random sample of 100 bottles showed sasmple mean = 1.99 liters.  What is the 90%  confidence interval estimate of the true mean amount in 2-liter bottles? "
      ]
    },
    {
      "cell_type": "code",
      "execution_count": 2,
      "metadata": {
        "id": "fIQJX5OYg0LL",
        "outputId": "d9068291-1091-4a2e-c513-33dd92162640",
        "colab": {
          "base_uri": "https://localhost:8080/"
        }
      },
      "outputs": [
        {
          "output_type": "execute_result",
          "data": {
            "text/plain": [
              "(1.6221995477099427, 2.357800452290057)"
            ]
          },
          "metadata": {},
          "execution_count": 2
        }
      ],
      "source": [
        "mean = 1.99\n",
        "std = 0.05\n",
        "err = std / (math.sqrt(std))\n",
        "stats.norm.interval(alpha= 0.90, loc = mean, scale = err)"
      ]
    },
    {
      "cell_type": "markdown",
      "metadata": {
        "id": "shuJsLoZg0LO"
      },
      "source": [
        "Bài 2: You’re a time study analyst in manufacturing.  You’ve recorded the following task times (min.): 3.6, 4.2, 4.0, 3.5, 3.8, 3.1. What is the 90% confidence interval estimate of the population mean task time? "
      ]
    },
    {
      "cell_type": "code",
      "execution_count": 3,
      "metadata": {
        "id": "lgdZVIvXg0LP",
        "outputId": "c24a1dfa-c121-4c99-a62a-7151220f7fbd",
        "colab": {
          "base_uri": "https://localhost:8080/"
        }
      },
      "outputs": [
        {
          "output_type": "execute_result",
          "data": {
            "text/plain": [
              "(3.3792758632100677, 4.020724136789934)"
            ]
          },
          "metadata": {},
          "execution_count": 3
        }
      ],
      "source": [
        "data = [3.6, 4.2, 4, 3.5, 3.8, 3.1]\n",
        "N = 6\n",
        "mean = np.mean(data)\n",
        "err = stats.sem(data)\n",
        "stats.t.interval(alpha = 0.90,df = N - 1, loc =mean, scale = err)"
      ]
    },
    {
      "cell_type": "markdown",
      "metadata": {
        "id": "bS169QiRg0LQ"
      },
      "source": [
        "Bài 3: Does an average box of cereal contain 368 grams of cereal?  A random sample of 25 boxes had $\\overline{\\rm x}$ = 372.5.  The company has specified $\\sigma$ to be 25 grams.  Test at the .05 level of significance.\n",
        "\n",
        "Giả thuyết gốc: \"Trung bình 1 hộp ngũ cốc có chứa 368grams ngũ cốc\"\n",
        "\n",
        "Giả thuyết thay thế: \"Trung bình 1 hộp ngũ cốc không chứa 368grams ngũ cốc\"\n",
        "\n",
        "Xây dựng giả thuyết:\n",
        "$$H_0: μ = 368$$\n",
        "\n",
        "Giả thuyết thay thế:\n",
        "\n",
        "$$H_a: μ \\ne 368$$\n",
        "\n",
        "Với:\n",
        "- $α = 0.05$"
      ]
    },
    {
      "cell_type": "code",
      "execution_count": 16,
      "metadata": {
        "id": "P8DOPEobg0LR",
        "outputId": "e7dbd16c-402a-4828-b045-94bb9ebaaedd",
        "colab": {
          "base_uri": "https://localhost:8080/"
        }
      },
      "outputs": [
        {
          "output_type": "execute_result",
          "data": {
            "text/plain": [
              "array([381.44170419, 400.61907457, 359.06463729, 406.19673271,\n",
              "       367.54060683, 347.366475  , 404.63917283, 397.60835668,\n",
              "       378.23606641, 381.60967923, 384.20560747, 393.13152837,\n",
              "       335.9023904 , 385.61272317, 370.02149108, 405.52778804,\n",
              "       363.20045198, 391.04876241, 425.67628263, 368.79386049,\n",
              "       381.2864541 , 402.35028785, 385.53095905, 376.15833007,\n",
              "       384.9379868 ])"
            ]
          },
          "metadata": {},
          "execution_count": 16
        }
      ],
      "source": [
        "# Sinh mẫu ngẫu nhiên với cỡ mẫu 25, trung bình 372.5, độ lệch chuẩn 25\n",
        "sample = np.random.normal(loc = 372.5, scale = 25, size = 25)\n",
        "sample"
      ]
    },
    {
      "cell_type": "code",
      "source": [
        "# Xác định các thông số:\n",
        "null_mean = 368\n",
        "alpha = 0.05"
      ],
      "metadata": {
        "id": "3qIJR9wJiyO8"
      },
      "execution_count": 15,
      "outputs": []
    },
    {
      "cell_type": "code",
      "source": [
        "#Kiểm định t\n",
        "t_statistic, p_value = stats.ttest_1samp(sample, null_mean)\n",
        "print(\"Giá trị p là:\", p_value)\n",
        "if(p_value <  alpha):\n",
        "  print(\"Có bằng chứng để bác bỏ giả thuyết H0\")\n",
        "else:\n",
        "  print(\"Chưa có bằng chứng để bác bỏ giả thuyết H0\")"
      ],
      "metadata": {
        "id": "l7NsCoHPi2Sk",
        "outputId": "d3ab8282-fd14-4427-d45a-94e1da78d0d9",
        "colab": {
          "base_uri": "https://localhost:8080/"
        }
      },
      "execution_count": 17,
      "outputs": [
        {
          "output_type": "stream",
          "name": "stdout",
          "text": [
            "Giá trị p là: 0.0009046082608881457\n",
            "Có bằng chứng để bác bỏ giả thuyết H0\n"
          ]
        }
      ]
    },
    {
      "cell_type": "markdown",
      "metadata": {
        "id": "xsxDekzLg0LS"
      },
      "source": [
        "Bài 4: You’re a Q/C inspector.  You want to find out if a new machine is making electrical cords to customer specification: average breaking strength of 70 lb. with $\\sigma$ = 3.5 lb.  You take a sample of 36 cords & compute a sample mean of 69.7 lb.  At the .05 level of significance, is there evidence that the machine is not meeting the average breaking strength?\n",
        "\n",
        "Giả thuyết gốc: \"Máy được làm theo yêu cầu của khách hàng\"\n",
        "\n",
        "Giả thuyết thay thế: \"Máy không được làm theo yêu cầu của khách hàng\"\n",
        "\n",
        "Xây dựng giả thuyết:\n",
        "$$H_0: μ = 70$$\n",
        "\n",
        "Giả thuyết thay thế:\n",
        "\n",
        "$$H_a: μ \\ne 70$$\n",
        "\n",
        "Với:\n",
        "- $α = 0.05$"
      ]
    },
    {
      "cell_type": "code",
      "execution_count": 13,
      "metadata": {
        "id": "RahOE0xlg0LT",
        "outputId": "3d37fd19-7f05-4ce4-86c2-07bdd56faaf2",
        "colab": {
          "base_uri": "https://localhost:8080/"
        }
      },
      "outputs": [
        {
          "output_type": "execute_result",
          "data": {
            "text/plain": [
              "array([67.76537989, 66.77618137, 69.91412519, 71.70393903, 72.00036999,\n",
              "       68.42351863, 63.08832121, 66.60382019, 69.72906239, 68.78992769,\n",
              "       66.93172989, 74.71715213, 68.84724411, 64.8371976 , 72.78678962,\n",
              "       64.98088778, 75.41196635, 67.54510501, 71.8811628 , 72.38027964,\n",
              "       74.88350204, 68.75637326, 61.85467013, 69.06135023, 71.62813493,\n",
              "       67.89190688, 70.83139233, 68.80984024, 68.87189515, 65.49980911,\n",
              "       67.92897534, 70.96199223, 75.93601255, 68.80176702, 68.50085938,\n",
              "       69.10467978])"
            ]
          },
          "metadata": {},
          "execution_count": 13
        }
      ],
      "source": [
        "# Sinh mẫu ngẫu nhiên với cỡ mẫu 36, trung bình 69.7, độ lệch chuẩn 3.5\n",
        "sample = np.random.normal(loc = 69.7, scale = 3.5, size = 36)\n",
        "sample"
      ]
    },
    {
      "cell_type": "code",
      "source": [
        "# Xác định các thông số:\n",
        "null_mean = 70\n",
        "alpha = 0.05"
      ],
      "metadata": {
        "id": "dYB-DNDNkVux"
      },
      "execution_count": 12,
      "outputs": []
    },
    {
      "cell_type": "code",
      "source": [
        "# Kiểm định z:\n",
        "ztest_Score, p_value= ztest(sample, value = null_mean, alternative='two-sided')\n",
        "print(\"Giá trị của p là:\",p_value)\n",
        "if(p_value <  alpha):\n",
        "  print(\"Có bằng chứng để bác bỏ giả thuyết H0\")\n",
        "else:\n",
        "  print(\"Chưa có bằng chứng để bác bỏ giả thuyết H0\")"
      ],
      "metadata": {
        "id": "HFQvWODakY7J",
        "outputId": "e7490eda-ce06-466d-cb12-1df0119cf9f5",
        "colab": {
          "base_uri": "https://localhost:8080/"
        }
      },
      "execution_count": 26,
      "outputs": [
        {
          "output_type": "stream",
          "name": "stdout",
          "text": [
            "Giá trị của p là: 0.11078434616744147\n",
            "Chưa có bằng chứng để bác bỏ giả thuyết H0\n"
          ]
        }
      ]
    },
    {
      "cell_type": "markdown",
      "metadata": {
        "id": "viexlGbHg0LU"
      },
      "source": [
        "Bài 5: Does an average box of cereal contain more than 368 grams of cereal?  A random sample of 25 boxes showed $\\overline{\\rm x}$ =  372.5.  The company has specified $\\sigma$ to be 25 grams.  Test at the .05 level of significance.\n",
        "\n",
        "Giả thuyết gốc: \"Trung bình 1 hộp ngũ cốc có chứa 368grams ngũ cốc\"\n",
        "\n",
        "Giả thuyết thay thế: \"Trung bình 1 hộp ngũ cốc chứa nhiều hơn 368grams ngũ cốc\"\n",
        "\n",
        "Xây dựng giả thuyết:\n",
        "$$H_0: μ = 368$$\n",
        "\n",
        "Giả thuyết thay thế:\n",
        "\n",
        "$$H_a: μ > 368$$\n",
        "\n",
        "Với:\n",
        "- $α = 0.05$"
      ]
    },
    {
      "cell_type": "code",
      "execution_count": 23,
      "metadata": {
        "id": "fuYmP86Qg0LU",
        "outputId": "a5973e18-47db-4aba-94f1-ccd21bc70885",
        "colab": {
          "base_uri": "https://localhost:8080/"
        }
      },
      "outputs": [
        {
          "output_type": "execute_result",
          "data": {
            "text/plain": [
              "array([385.61920764, 381.66134411, 365.79664795, 395.82306867,\n",
              "       419.05666785, 377.50080043, 340.25724121, 384.98743323,\n",
              "       400.74464318, 365.52505963, 387.68418298, 355.81404701,\n",
              "       386.11762788, 384.71652347, 365.92924568, 352.68767134,\n",
              "       397.13497958, 340.53331502, 361.11384926, 364.78881095,\n",
              "       329.38194915, 370.42226881, 413.64324224, 370.77076072,\n",
              "       377.61452967])"
            ]
          },
          "metadata": {},
          "execution_count": 23
        }
      ],
      "source": [
        "# Sinh mẫu ngẫu nhiên với cỡ mẫu 25, trung bình 372.5, độ lệch chuẩn 25\n",
        "sample = np.random.normal(loc = 372.5, scale = 25, size = 25)\n",
        "sample"
      ]
    },
    {
      "cell_type": "code",
      "source": [
        "# Xác định các thông số:\n",
        "null_mean = 368\n",
        "alpha = 0.05"
      ],
      "metadata": {
        "id": "hrI8v-eZk6ih"
      },
      "execution_count": 24,
      "outputs": []
    },
    {
      "cell_type": "code",
      "source": [
        "#Kiểm định t\n",
        "t_statistic, p_value = stats.ttest_1samp(sample, null_mean)\n",
        "print(\"Giá trị p là:\", p_value)\n",
        "if(p_value <  alpha):\n",
        "  print(\"Có bằng chứng để bác bỏ giả thuyết H0\")\n",
        "else:\n",
        "  print(\"Chưa có bằng chứng để bác bỏ giả thuyết H0\")"
      ],
      "metadata": {
        "id": "hR87A1vck-hA",
        "outputId": "0f366691-c676-4d0a-c7ef-edcb44049f37",
        "colab": {
          "base_uri": "https://localhost:8080/"
        }
      },
      "execution_count": 25,
      "outputs": [
        {
          "output_type": "stream",
          "name": "stdout",
          "text": [
            "Giá trị p là: 0.12387008600571708\n",
            "Chưa có bằng chứng để bác bỏ giả thuyết H0\n"
          ]
        }
      ]
    },
    {
      "cell_type": "markdown",
      "metadata": {
        "id": "10Tenlnmg0LV"
      },
      "source": [
        "Bài 6: You’re an analyst for Ford.  You want to find out if the average miles per gallon of Escorts is at least 32 mpg. Similar models have a standard deviation of 3.8 mpg. You take a sample of 60 Escorts & compute a sample mean of 30.7 mpg. At the .01 level of significance, is there evidence that the miles per gallon is less than 32?\n",
        "\n",
        "Giả thuyết gốc: \"Số dặm trên một gallon của Escort bằng 32 mpg\"\n",
        "\n",
        "Giả thuyết thay thế: \"Số dặm trên một gallon của Escortbé hơn 32 mpg\"\n",
        "\n",
        "Xây dựng giả thuyết:\n",
        "$$H_0: μ = 32$$\n",
        "\n",
        "Giả thuyết thay thế:\n",
        "\n",
        "$$H_a: μ < 32$$\n",
        "\n",
        "Với:\n",
        "- $α = 0.01$"
      ]
    },
    {
      "cell_type": "code",
      "execution_count": 31,
      "metadata": {
        "id": "lymM2fWeg0LW",
        "outputId": "3240c68b-ba13-4fad-8cfe-f6baaae13978",
        "colab": {
          "base_uri": "https://localhost:8080/"
        }
      },
      "outputs": [
        {
          "output_type": "execute_result",
          "data": {
            "text/plain": [
              "array([27.37975051, 27.40117395, 25.86724195, 28.08674717, 33.44620037,\n",
              "       31.09646772, 28.85621799, 25.89824277, 32.57114966, 32.04834618,\n",
              "       29.32396573, 24.52363377, 27.4184719 , 29.47233341, 27.89152408,\n",
              "       30.79125612, 29.42002788, 31.17919402, 34.3696253 , 28.22732248,\n",
              "       32.66354814, 32.8951108 , 28.43865025, 34.67955348, 32.0356723 ,\n",
              "       34.7228972 , 30.59837633, 29.59236224, 30.22122514, 31.71237359,\n",
              "       28.50435882, 28.96360159, 34.70667543, 28.91733413, 25.47567054,\n",
              "       35.92635816, 26.02621424, 33.31745539, 29.39225712, 30.47549875,\n",
              "       26.39218391, 24.58310913, 24.16639106, 34.93370842, 26.11187795,\n",
              "       30.75861289, 27.51222242, 29.92503079, 33.74108148, 31.30173956,\n",
              "       29.28109622, 25.10908755, 24.6944833 , 27.62504782, 32.84805885,\n",
              "       33.00414915, 31.23335307, 29.2395686 , 34.00665935, 28.14820371])"
            ]
          },
          "metadata": {},
          "execution_count": 31
        }
      ],
      "source": [
        "# Sinh mẫu ngẫu nhiên với cỡ mẫu 60, trung bình 30.7, độ lệch chuẩn 3.8\n",
        "sample = np.random.normal(loc = 30.7, scale = 3.8, size = 60)\n",
        "sample"
      ]
    },
    {
      "cell_type": "code",
      "source": [
        "# Xác định các thông số:\n",
        "null_mean = 32\n",
        "alpha = 0.01"
      ],
      "metadata": {
        "id": "1LeQqxkbq0ze"
      },
      "execution_count": 30,
      "outputs": []
    },
    {
      "cell_type": "code",
      "source": [
        "# Kiểm định z:\n",
        "ztest_Score, p_value= ztest(sample, value = null_mean, alternative='smaller')\n",
        "print(\"Giá trị của p là:\",p_value)\n",
        "if(p_value <  alpha):\n",
        "  print(\"Có bằng chứng để bác bỏ giả thuyết H0\")\n",
        "else:\n",
        "  print(\"Chưa có bằng chứng để bác bỏ giả thuyết H0\")"
      ],
      "metadata": {
        "id": "uRfcdfYeq6S9",
        "outputId": "e465de2f-f3fc-47b8-c6af-0366b59c9837",
        "colab": {
          "base_uri": "https://localhost:8080/"
        }
      },
      "execution_count": 32,
      "outputs": [
        {
          "output_type": "stream",
          "name": "stdout",
          "text": [
            "Giá trị của p là: 1.8414773646721028e-08\n",
            "Có bằng chứng để bác bỏ giả thuyết H0\n"
          ]
        }
      ]
    },
    {
      "cell_type": "markdown",
      "metadata": {
        "id": "y56BMF3Ug0LW"
      },
      "source": [
        "Bài 7: Does an average box of cereal contain 368 grams of cereal?  A random sample of 25 boxes showed $\\overline{\\rm x}$ = 372.5.  The company has specified $\\sigma$ to be 15 grams.  Find the p-Value.\n",
        "\n",
        "Giả thuyết gốc: \"Trung bình 1 hộp ngũ cốc có chứa 368grams ngũ cốc\"\n",
        "\n",
        "Giả thuyết thay thế: \"Trung bình 1 hộp ngũ cốc không chứa 368grams ngũ cốc\"\n",
        "\n",
        "Xây dựng giả thuyết:\n",
        "$$H_0: μ = 368$$\n",
        "\n",
        "Giả thuyết thay thế:\n",
        "\n",
        "$$H_a: μ \\ne 368$$\n"
      ]
    },
    {
      "cell_type": "code",
      "execution_count": 27,
      "metadata": {
        "id": "5o4IALN1g0LW",
        "outputId": "3cb93611-25bb-4349-ee39-ea2d97b8eb48",
        "colab": {
          "base_uri": "https://localhost:8080/"
        }
      },
      "outputs": [
        {
          "output_type": "execute_result",
          "data": {
            "text/plain": [
              "array([383.50651851, 405.84658199, 378.03897156, 417.96536765,\n",
              "       380.80162641, 358.83295594, 364.22207832, 399.9392618 ,\n",
              "       369.54397375, 413.55745505, 348.20185273, 426.87821886,\n",
              "       367.16872725, 393.92545486, 353.03731918, 332.28264148,\n",
              "       402.3700109 , 381.81698587, 366.29016847, 360.92181609,\n",
              "       374.11791342, 368.84483857, 397.38251772, 349.29624682,\n",
              "       330.83942406])"
            ]
          },
          "metadata": {},
          "execution_count": 27
        }
      ],
      "source": [
        "# Sinh mẫu ngẫu nhiên với cỡ mẫu 25, trung bình 372.5, độ lệch chuẩn 25\n",
        "sample = np.random.normal(loc = 372.5, scale = 25, size = 25)\n",
        "sample"
      ]
    },
    {
      "cell_type": "code",
      "source": [
        "# Xác định thông số:\n",
        "null_mean = 368"
      ],
      "metadata": {
        "id": "ZFvn_v09qKQZ"
      },
      "execution_count": null,
      "outputs": []
    },
    {
      "cell_type": "code",
      "source": [
        "# Kiểm định t:\n",
        "t_statistic, p_value = stats.ttest_1samp(sample, null_mean)\n",
        "print(f\"p-value: {p_value}\")"
      ],
      "metadata": {
        "id": "W2-kZZ1pqO7H",
        "outputId": "1ddbef1b-33c9-4cce-cac0-d966c7daad2e",
        "colab": {
          "base_uri": "https://localhost:8080/"
        }
      },
      "execution_count": 29,
      "outputs": [
        {
          "output_type": "stream",
          "name": "stdout",
          "text": [
            "p-value: 0.09023235688167232\n"
          ]
        }
      ]
    },
    {
      "cell_type": "markdown",
      "metadata": {
        "id": "ZZrCXGAfg0LX"
      },
      "source": [
        "Bài 8: Does an average box of cereal contain more than 368 grams of cereal?  A random sample of 25 boxes showed $\\overline{\\rm x}$ = 372.5.  The company has specified $\\sigma$ to be 15 grams.  Find the p-Value.\n",
        "\n",
        "Giả thuyết gốc: \"Trung bình 1 hộp ngũ cốc có chứa 368grams ngũ cốc\"\n",
        "\n",
        "Giả thuyết thay thế: \"Trung bình 1 hộp ngũ cốc chứa nhiều hơn 368grams ngũ cốc\"\n",
        "\n",
        "Xây dựng giả thuyết:\n",
        "$$H_0: μ = 368$$\n",
        "\n",
        "Giả thuyết thay thế:\n",
        "\n",
        "$$H_a: μ > 368$$\n"
      ]
    },
    {
      "cell_type": "code",
      "execution_count": null,
      "metadata": {
        "id": "YtSKRZ9Rg0LX"
      },
      "outputs": [],
      "source": [
        "# Sinh mẫu ngẫu nhiên với cỡ mẫu 25, trung bình 372.5, độ lệch chuẩn 25\n",
        "sample = np.random.normal(loc = 372.5, scale = 25, size = 25)\n",
        "sample"
      ]
    },
    {
      "cell_type": "code",
      "source": [
        "# Xác định các thông số:\n",
        "null_mean=368"
      ],
      "metadata": {
        "id": "xALEtevargis"
      },
      "execution_count": null,
      "outputs": []
    },
    {
      "cell_type": "code",
      "source": [
        "# Kiếm định t:\n",
        "t_statistic, p_value = stats.ttest_1samp(sample, null_mean)\n",
        "print(f\"p-value: {p_value}\")"
      ],
      "metadata": {
        "id": "AQfuJL03rnT0",
        "outputId": "39516442-6317-451e-98e5-020bf81e347b",
        "colab": {
          "base_uri": "https://localhost:8080/"
        }
      },
      "execution_count": 35,
      "outputs": [
        {
          "output_type": "stream",
          "name": "stdout",
          "text": [
            "p-value: 8.41480402287198e-07\n"
          ]
        }
      ]
    },
    {
      "cell_type": "markdown",
      "metadata": {
        "id": "TcopShZSg0LY"
      },
      "source": [
        "Bài 9: You’re an analyst for Ford.  You want to find out if the average miles per gallon of Escorts is less than 32 mpg.   Similar models have a standard deviation of 3.8 mpg.  You take a sample of 60 Escorts & compute a sample mean of 30.7 mpg.  What is the value of the observed level of significance (p-Value)?\n",
        "\n",
        "Giả thuyết gốc: \"Số dặm trên một gallon của Escort bằng 32 mpg\"\n",
        "\n",
        "Giả thuyết thay thế: \"Số dặm trên một gallon của Escortbé hơn 32 mpg\"\n",
        "\n",
        "Xây dựng giả thuyết:\n",
        "$$H_0: μ = 32$$\n",
        "\n",
        "Giả thuyết thay thế:\n",
        "\n",
        "$$H_a: μ < 32$$\n"
      ]
    },
    {
      "cell_type": "code",
      "execution_count": 36,
      "metadata": {
        "id": "mp4yt-tsg0LY",
        "outputId": "568ea5c9-fbb5-4065-cda1-dcb58ac6cf4b",
        "colab": {
          "base_uri": "https://localhost:8080/"
        }
      },
      "outputs": [
        {
          "output_type": "execute_result",
          "data": {
            "text/plain": [
              "array([34.34189091, 28.76583942, 29.76008993, 26.29093658, 29.88696546,\n",
              "       36.10065896, 29.20999648, 33.12319108, 38.68902852, 34.71811273,\n",
              "       32.07166142, 23.49697436, 30.28190204, 34.2889242 , 32.02594748,\n",
              "       34.54602508, 37.55481135, 26.66542148, 36.12402771, 30.89494453,\n",
              "       30.17856254, 32.61974329, 30.78017107, 26.57303845, 34.16699599,\n",
              "       27.35341367, 35.15787137, 25.37491953, 29.58921998, 31.35604929,\n",
              "       29.50692899, 26.23670689, 27.49202025, 36.82216059, 26.4784421 ,\n",
              "       30.5091082 , 30.7431819 , 27.63765722, 28.30433753, 22.53573342,\n",
              "       35.37737409, 31.65975016, 31.32320261, 27.31863339, 26.65956848,\n",
              "       27.17590135, 41.13586519, 32.37472285, 34.47981997, 31.25502533,\n",
              "       27.61370647, 26.20460343, 35.90752756, 22.93876163, 29.95976884,\n",
              "       30.09217863, 30.68350727, 30.82875145, 35.64445788, 26.52177446])"
            ]
          },
          "metadata": {},
          "execution_count": 36
        }
      ],
      "source": [
        "# Sinh mẫu ngẫu nhiên với cỡ mẫu 60, trung bình 30.7, độ lệch chuẩn 3.8\n",
        "sample = np.random.normal(loc = 30.7, scale = 3.8, size = 60)\n",
        "sample"
      ]
    },
    {
      "cell_type": "code",
      "source": [
        "# Xác định các thông số:\n",
        "null_mean = 32"
      ],
      "metadata": {
        "id": "one8q8CutTZJ"
      },
      "execution_count": 37,
      "outputs": []
    },
    {
      "cell_type": "code",
      "source": [
        "# Kiểm định z:\n",
        "ztest_Score, p_value= ztest(sample, value = null_mean, alternative='smaller')\n",
        "print(f\"p-value: {p_value}\")"
      ],
      "metadata": {
        "id": "vMfbi5YNtWpo",
        "outputId": "09ba68fe-beb0-400e-9a9d-55472c8b4c9d",
        "colab": {
          "base_uri": "https://localhost:8080/"
        }
      },
      "execution_count": 38,
      "outputs": [
        {
          "output_type": "stream",
          "name": "stdout",
          "text": [
            "p-value: 0.0067118920497757075\n"
          ]
        }
      ]
    },
    {
      "cell_type": "markdown",
      "metadata": {
        "id": "_5qDl51Pg0LZ"
      },
      "source": [
        "Bài 10: Does an average box of cereal contain 368 grams of cereal?  A random sample of 36 boxes had a mean of 372.5 and a standard deviation of 12 grams. Test at the .05 level of significance.\n",
        "\n",
        "Giả thuyết gốc: \"Trung bình 1 hộp ngũ cốc có chứa 368grams ngũ cốc\"\n",
        "\n",
        "Giả thuyết thay thế: \"Trung bình 1 hộp ngũ cốc không chứa 368grams ngũ cốc\"\n",
        "\n",
        "Xây dựng giả thuyết:\n",
        "$$H_0: μ = 368$$\n",
        "\n",
        "Giả thuyết thay thế:\n",
        "\n",
        "$$H_a: μ \\ne 368$$\n",
        "\n",
        "Với:\n",
        "- $α = 0.05$"
      ]
    },
    {
      "cell_type": "code",
      "execution_count": 50,
      "metadata": {
        "id": "InOyLr6Cg0LZ",
        "outputId": "891fb18c-fa6e-4e9a-fbb4-2188268ef205",
        "colab": {
          "base_uri": "https://localhost:8080/"
        }
      },
      "outputs": [
        {
          "output_type": "execute_result",
          "data": {
            "text/plain": [
              "array([386.70508127, 391.81169481, 366.3551865 , 362.20068753,\n",
              "       374.09250077, 361.37912708, 370.58163078, 360.46943591,\n",
              "       376.67387931, 375.23422437, 391.00970242, 376.59402305,\n",
              "       377.98906283, 381.48818757, 374.9490224 , 381.08212199,\n",
              "       368.32753217, 363.7388646 , 379.17565839, 383.85806521,\n",
              "       384.06404904, 369.8246378 , 388.88663516, 368.84322376,\n",
              "       377.54197937, 379.41161762, 384.45618643, 373.29624504,\n",
              "       350.1761247 , 363.3883722 , 380.64788948, 364.76367646,\n",
              "       366.83311143, 387.1064952 , 359.40179574, 390.60760567])"
            ]
          },
          "metadata": {},
          "execution_count": 50
        }
      ],
      "source": [
        "# Sinh mẫu ngẫu nhiên với cỡ mẫu 36, trung bình 372.5, độ lệch chuẩn 12\n",
        "sample = np.random.normal(loc = 372.5, scale = 12, size = 36)\n",
        "sample"
      ]
    },
    {
      "cell_type": "code",
      "source": [
        "# Xác định các thông số:\n",
        "null_mean = 368\n",
        "alpha = 0.05"
      ],
      "metadata": {
        "id": "9VrBUbLot8U5"
      },
      "execution_count": 51,
      "outputs": []
    },
    {
      "cell_type": "code",
      "source": [
        "# Kiểm định z:\n",
        "ztest_Score, p_value= ztest(sample, value = null_mean, alternative='smaller')\n",
        "print(\"Giá trị của p là:\",p_value)\n",
        "if(p_value <  alpha):\n",
        "  print(\"Có bằng chứng để bác bỏ giả thuyết H0\")\n",
        "else:\n",
        "  print(\"Chưa có bằng chứng để bác bỏ giả thuyết H0\")"
      ],
      "metadata": {
        "id": "I_nkMx42t_sg",
        "outputId": "86711066-8b85-4d1f-ac40-a19aede67787",
        "colab": {
          "base_uri": "https://localhost:8080/"
        }
      },
      "execution_count": 52,
      "outputs": [
        {
          "output_type": "stream",
          "name": "stdout",
          "text": [
            "Giá trị của p là: 0.9999611462150508\n",
            "Chưa có bằng chứng để bác bỏ giả thuyết H0\n"
          ]
        }
      ]
    },
    {
      "cell_type": "markdown",
      "metadata": {
        "id": "IXuk9Vw3g0La"
      },
      "source": [
        "Bài 11: You work for the FTC.  A manufacturer of detergent claims that the mean weight of detergent is 3.25 lb.  You take a random sample of 64 containers.  You calculate the sample average to be 3.238 lb. with a standard deviation of .117 lb.  At the .01 level of significance, is the manufacturer correct?\n",
        "\n",
        "Giả thuyết gốc: \"Trung bình bình chất tẩy rửa nặng 3.25 lb\"\n",
        "\n",
        "Giả thuyết thay thế: \"Trung bình bình chất tẩy rửa không nặng 3.25 lb\"\n",
        "\n",
        "Xây dựng giả thuyết:\n",
        "$$H_0: μ = 3.25$$\n",
        "\n",
        "Giả thuyết thay thế:\n",
        "\n",
        "$$H_a: μ \\ne 3.25$$\n",
        "\n",
        "Với:\n",
        "- $α = 0.01$"
      ]
    },
    {
      "cell_type": "code",
      "execution_count": 53,
      "metadata": {
        "id": "X6VBe_azg0La",
        "outputId": "5d0e8692-00bb-4673-dc9d-d8a537954381",
        "colab": {
          "base_uri": "https://localhost:8080/"
        }
      },
      "outputs": [
        {
          "output_type": "execute_result",
          "data": {
            "text/plain": [
              "array([3.21332513, 3.35199017, 3.29759903, 3.21817243, 3.33478143,\n",
              "       3.08655972, 3.27605125, 3.2297116 , 3.26804486, 3.17282195,\n",
              "       3.40681596, 3.22202466, 3.1919106 , 3.22837394, 3.39542963,\n",
              "       3.24368064, 3.06676232, 2.95640852, 3.27284043, 3.22310024,\n",
              "       3.35818976, 3.07467482, 3.15622198, 3.22707951, 3.34841866,\n",
              "       3.19264373, 3.42752184, 3.37353838, 3.18042811, 3.20432777,\n",
              "       3.15913397, 3.32632401, 3.22072209, 3.20276873, 3.22186098,\n",
              "       3.25007146, 3.43545444, 3.1693462 , 3.20166608, 3.31296995,\n",
              "       3.17606302, 3.29247258, 3.22899223, 3.13700176, 3.59386913,\n",
              "       3.18994261, 3.37690731, 3.36199716, 3.22512593, 3.16910679,\n",
              "       3.12506559, 3.28660841, 3.179616  , 3.26343749, 3.32985194,\n",
              "       3.1922965 , 3.19474977, 3.23529264, 3.27139319, 3.08014838,\n",
              "       3.20510147, 3.07214722, 3.32403434, 3.00937835])"
            ]
          },
          "metadata": {},
          "execution_count": 53
        }
      ],
      "source": [
        "# Sinh mẫu ngẫu nhiên với cỡ mẫu 64, trung bình 3.238, độ lệch chuẩn 0.117\n",
        "sample = np.random.normal(loc = 3.238, scale = 0.117, size = 64)\n",
        "sample"
      ]
    },
    {
      "cell_type": "code",
      "source": [
        "# Xác định các thông số:\n",
        "null_mean = 3.25\n",
        "alpha = 0.01"
      ],
      "metadata": {
        "id": "IY-oMSxvvVUN"
      },
      "execution_count": 54,
      "outputs": []
    },
    {
      "cell_type": "code",
      "source": [
        "# Kiểm định z:\n",
        "ztest_Score, p_value= ztest(sample, value = null_mean, alternative='smaller')\n",
        "print(\"Giá trị của p là:\",p_value)\n",
        "if(p_value <  alpha):\n",
        "  print(\"Có bằng chứng để bác bỏ giả thuyết H0\")\n",
        "else:\n",
        "  print(\"Chưa có bằng chứng để bác bỏ giả thuyết H0\")"
      ],
      "metadata": {
        "id": "f6egtNpyvZWE",
        "outputId": "d3b56df2-8a96-43ea-9f10-819156cd3b6b",
        "colab": {
          "base_uri": "https://localhost:8080/"
        }
      },
      "execution_count": 55,
      "outputs": [
        {
          "output_type": "stream",
          "name": "stdout",
          "text": [
            "Giá trị của p là: 0.1844944903808634\n",
            "Chưa có bằng chứng để bác bỏ giả thuyết H0\n"
          ]
        }
      ]
    },
    {
      "cell_type": "markdown",
      "metadata": {
        "id": "a6Kn1zITg0La"
      },
      "source": [
        "Bài 12: Is the average capacity of batteries less than 140 ampere-hours?  A random sample of 20 batteries had a mean of 138.47 and a standard deviation of 2.66.  Assume a normal distribution. Test at the .05 level of significance.\n",
        "\n",
        "Giả thuyết gốc: \"Dung lượng trung bình của pin là 140 ampere-hours \"\n",
        "\n",
        "Giả thuyết thay thế: \"Dung lượng trung bình của pin bé hơn 140 ampere-hours\"\n",
        "\n",
        "Xây dựng giả thuyết:\n",
        "$$H_0: μ = 140$$\n",
        "\n",
        "Giả thuyết thay thế:\n",
        "\n",
        "$$H_a: μ <140$$\n",
        "\n",
        "Với:\n",
        "- $α = 0.05$"
      ]
    },
    {
      "cell_type": "code",
      "execution_count": 56,
      "metadata": {
        "id": "Ph17ggN6g0Lb",
        "outputId": "6d9645c0-b236-4b46-894b-0711095edbba",
        "colab": {
          "base_uri": "https://localhost:8080/"
        }
      },
      "outputs": [
        {
          "output_type": "execute_result",
          "data": {
            "text/plain": [
              "array([141.20465947, 138.01408899, 139.46196023, 140.11093365,\n",
              "       133.61663887, 141.72587232, 140.17017298, 138.83401197,\n",
              "       139.03538541, 136.13531795, 138.35519505, 138.8385457 ,\n",
              "       133.0124984 , 138.2837703 , 136.90211519, 139.25945185,\n",
              "       141.18968679, 139.24991142, 139.96701995, 139.88584232])"
            ]
          },
          "metadata": {},
          "execution_count": 56
        }
      ],
      "source": [
        "# Sinh mẫu ngẫu nhiên với cỡ mẫu 20, trung bình 138.47, độ lệch chuẩn 2.66\n",
        "sample = np.random.normal(loc = 138.47, scale = 2.66, size = 20)\n",
        "sample"
      ]
    },
    {
      "cell_type": "code",
      "source": [
        "# Xác định các thông số:\n",
        "null_mean = 140\n",
        "alpha = 0.05"
      ],
      "metadata": {
        "id": "d_EqiOtcwX7s"
      },
      "execution_count": 57,
      "outputs": []
    },
    {
      "cell_type": "code",
      "source": [
        "#Kiểm định t\n",
        "t_statistic, p_value = stats.ttest_1samp(sample, null_mean)\n",
        "print(\"Giá trị p là:\", p_value)\n",
        "if(p_value <  alpha):\n",
        "  print(\"Có bằng chứng để bác bỏ giả thuyết H0\")\n",
        "else:\n",
        "  print(\"Chưa có bằng chứng để bác bỏ giả thuyết H0\")"
      ],
      "metadata": {
        "id": "JoHjY8Ifwe0d",
        "outputId": "b20692ab-281d-4c63-8f94-1776f6253c47",
        "colab": {
          "base_uri": "https://localhost:8080/"
        }
      },
      "execution_count": 58,
      "outputs": [
        {
          "output_type": "stream",
          "name": "stdout",
          "text": [
            "Giá trị p là: 0.01678415659233666\n",
            "Có bằng chứng để bác bỏ giả thuyết H0\n"
          ]
        }
      ]
    },
    {
      "cell_type": "markdown",
      "metadata": {
        "id": "g24_O_0Gg0Lb"
      },
      "source": [
        "Bài 13: You’re a marketing analyst for Wal-Mart.  Wal-Mart had teddy bears on sale last week.  The weekly sales of bears sold in 10 stores was: 8  11  0   4   7   8   10   5   8   3. At the .05 level of significance, is there evidence that the average bear sales per store is more than 5?\n",
        "\n",
        "Giả thuyết gốc: \"Doanh số bán háng trung bình của cửa hàng trung bình là 5 con \"\n",
        "\n",
        "Giả thuyết thay thế: \"Doanh số bán háng trung bình của cửa hàng trung bình lớn hơn 5 con\"\n",
        "\n",
        "Xây dựng giả thuyết:\n",
        "$$H_0: μ = 140$$\n",
        "\n",
        "Giả thuyết thay thế:\n",
        "\n",
        "$$H_a: μ <140$$\n",
        "\n",
        "Với:\n",
        "- $α = 0.05$"
      ]
    },
    {
      "cell_type": "code",
      "execution_count": 59,
      "metadata": {
        "id": "EZYbgB_Gg0Lb"
      },
      "outputs": [],
      "source": [
        "# Tạo mẫu:\n",
        "sample = np.array([11, 0, 4, 7, 8, 10, 5, 8, 3])"
      ]
    },
    {
      "cell_type": "code",
      "execution_count": 60,
      "metadata": {
        "id": "7CNvOnExg0Lc"
      },
      "outputs": [],
      "source": [
        "# Xác định các thông số:\n",
        "null_mean = 5\n",
        "alpha = 0.05"
      ]
    },
    {
      "cell_type": "code",
      "source": [
        "#Kiểm định t\n",
        "t_statistic, p_value = stats.ttest_1samp(sample, null_mean)\n",
        "print(\"Giá trị p là:\", p_value)\n",
        "if(p_value <  alpha):\n",
        "  print(\"Có bằng chứng để bác bỏ giả thuyết H0\")\n",
        "else:\n",
        "  print(\"Chưa có bằng chứng để bác bỏ giả thuyết H0\")"
      ],
      "metadata": {
        "id": "LGZUt5J3x8ex",
        "outputId": "79ad000f-346e-48d2-a8b9-500f16de1e8d",
        "colab": {
          "base_uri": "https://localhost:8080/"
        }
      },
      "execution_count": 64,
      "outputs": [
        {
          "output_type": "stream",
          "name": "stdout",
          "text": [
            "Giá trị p là: 0.3290092357356452\n",
            "Chưa có bằng chứng để bác bỏ giả thuyết H0\n"
          ]
        }
      ]
    }
  ],
  "metadata": {
    "kernelspec": {
      "display_name": "Python 3",
      "language": "python",
      "name": "python3"
    },
    "language_info": {
      "codemirror_mode": {
        "name": "ipython",
        "version": 3
      },
      "file_extension": ".py",
      "mimetype": "text/x-python",
      "name": "python",
      "nbconvert_exporter": "python",
      "pygments_lexer": "ipython3",
      "version": "3.7.3"
    },
    "colab": {
      "name": "bai-tap-kiem-dinh-z-t.ipynb",
      "provenance": [],
      "include_colab_link": true
    }
  },
  "nbformat": 4,
  "nbformat_minor": 0
}