{
  "nbformat": 4,
  "nbformat_minor": 0,
  "metadata": {
    "colab": {
      "name": "BaitapTaptin.ipynb",
      "provenance": [],
      "collapsed_sections": [],
      "authorship_tag": "ABX9TyNK5MbNxXz71uS2K75QCgea",
      "include_colab_link": true
    },
    "kernelspec": {
      "name": "python3",
      "display_name": "Python 3"
    },
    "language_info": {
      "name": "python"
    }
  },
  "cells": [
    {
      "cell_type": "markdown",
      "metadata": {
        "id": "view-in-github",
        "colab_type": "text"
      },
      "source": [
        "<a href=\"https://colab.research.google.com/github/NguyenDuyTan0302/BaiTapNNLT/blob/master/BaitapTaptin.ipynb\" target=\"_parent\"><img src=\"https://colab.research.google.com/assets/colab-badge.svg\" alt=\"Open In Colab\"/></a>"
      ]
    },
    {
      "cell_type": "code",
      "metadata": {
        "colab": {
          "base_uri": "https://localhost:8080/",
          "height": 631
        },
        "id": "ma0pKvY4tRhy",
        "outputId": "bbf856f0-75d7-4f5b-db7b-9d2a3732012b"
      },
      "source": [
        "class Person:\n",
        "    name: str\n",
        "    phone: str\n",
        "    email:str\n",
        "\n",
        "    def __init__(self, name, phone, email):\n",
        "        super().__init__()\n",
        "        self.name=name\n",
        "        self.phone=phone\n",
        "        self.email=email\n",
        "\n",
        "    def outputPerson(self) -> str:\n",
        "        result = \"Ten: \" + self.name  + \"\\tSDT: \" + self.phone + \"\\tEmail: \" + self.email\n",
        "        return result\n",
        "class Student(Person):\n",
        "    studentid: str\n",
        "    diemTB: float\n",
        "\n",
        "    def __init__(self, name, phone, email, studentid, diemTB) -> None:\n",
        "        Person.__init__(self, name, phone, email)\n",
        "        self.studentid = studentid\n",
        "        self.diemTB=diemTB\n",
        "\n",
        "    def outputStudent(self) -> str:\n",
        "        result = self.outputPerson() + \"\\n\\tStudentID: \" + self.studentid + \"\\tDiem TB: \" + str(self.diemTB)\n",
        "        return result\n",
        "class Professor(Person):\n",
        "    salary: int\n",
        "\n",
        "    def __init__(self, name, phone, email,salary) -> None:\n",
        "        Person.__init__(self, name, phone, email)\n",
        "        self.salary=salary\n",
        "\n",
        "    def outputProfessor(self) -> str:\n",
        "        result = self.outputPerson() + \"\\n\\tSalary: \" + str(self.salary)\n",
        "        return result\n",
        "def main():\n",
        "  import pickle\n",
        "  nguoi_list=[]\n",
        "  hocsinh_list=[]\n",
        "  thay_list=[]\n",
        "  n=1\n",
        "  for i in range(n):\n",
        "    nguoi=Person(str(input()),str(input()),str(input()))\n",
        "    nguoi_list.append(nguoi)\n",
        "    hocsinh=Student(str(input()),str(input()),str(input()),str(input()),input())\n",
        "    thay=Professor(str(input()),str(input()),str(input()),input())\n",
        "    hocsinh_list.append(hocsinh)\n",
        "    thay_list.append(thay)\n",
        "  for i in range(n):\n",
        "    print(nguoi_list[i].outputPerson())\n",
        "  for i in range(n):\n",
        "    print(hocsinh_list[i].outputStudent())\n",
        "  for i in range(n):\n",
        "    print(thay_list[i].outputProfessor())\n",
        "  for i in range(n):\n",
        "    for j in range(i+1,n):\n",
        "      if(nguoi_list[i].name>nguoi_list[j].name):\n",
        "        nguoi_list[i].name,nguoi_list[j].name=nguoi_list[j].name,nguoi_list[i].name\n",
        "      if(hocsinh_list[i].diemTB<hocsinh_list[j].diemTB):\n",
        "        hocsinh_list[i].diemTB,hocsinh_list[j].diemTB=hocsinh_list[j].diemTB,hocsinh_list[i].diemTB\n",
        "      if(thay_list[i].salary<thay_list[j].salary):\n",
        "        thay_list[i].salary,thay_list[j].salary=thay_list[j].salary,thay_list[i].salary\n",
        "  for i in range(n):\n",
        "    str(hocsinh_list[i].diemTB)\n",
        "    str(thay_list[i].salary)\n",
        "  f1=open('nguoi.txt',\"wb\")\n",
        "  pickle.dump(nguoi_list,f1)\n",
        "  f1.close()\n",
        "  f2=open('hocsinh.txt',\"wb\")\n",
        "  pickle.dump(hocsinh_list,f2)\n",
        "  f2.close()\n",
        "  f3=open('thay.txt',\"wb\")\n",
        "  pickle.dump(nguoi_list,f3)\n",
        "  f3.close()\n",
        "  with open('nguoi.txt','r') as f1:\n",
        "    x=f1.read()\n",
        "  f1.close()\n",
        "  print(x)\n",
        "  with open('hocsinh.txt','r') as f2:\n",
        "    y=f2.read()\n",
        "  f2.close()\n",
        "  print(y)\n",
        "  with open('thay.txt','r') as f3:\n",
        "    z=f3.read()\n",
        "  f3.close()\n",
        "  print(z3)\n",
        "if __name__==\"__main__\":\n",
        "    main()"
      ],
      "execution_count": null,
      "outputs": [
        {
          "output_type": "stream",
          "name": "stdout",
          "text": [
            "a\n",
            "1\n",
            "a\n",
            "b\n",
            "2\n",
            "b\n",
            "3\n",
            "8\n",
            "c\n",
            "3\n",
            "c\n",
            "10000000\n",
            "Ten: a\tSDT: 1\tEmail: a\n",
            "Ten: b\tSDT: 2\tEmail: b\n",
            "\tStudentID: 3\tDiem TB: 8\n",
            "Ten: c\tSDT: 3\tEmail: c\n",
            "\tSalary: 10000000\n"
          ]
        },
        {
          "output_type": "error",
          "ename": "UnicodeDecodeError",
          "evalue": "ignored",
          "traceback": [
            "\u001b[0;31m---------------------------------------------------------------------------\u001b[0m",
            "\u001b[0;31mUnicodeDecodeError\u001b[0m                        Traceback (most recent call last)",
            "\u001b[0;32m<ipython-input-35-f0d0d0341214>\u001b[0m in \u001b[0;36m<module>\u001b[0;34m()\u001b[0m\n\u001b[1;32m     87\u001b[0m   \u001b[0mprint\u001b[0m\u001b[0;34m(\u001b[0m\u001b[0mz3\u001b[0m\u001b[0;34m)\u001b[0m\u001b[0;34m\u001b[0m\u001b[0;34m\u001b[0m\u001b[0m\n\u001b[1;32m     88\u001b[0m \u001b[0;32mif\u001b[0m \u001b[0m__name__\u001b[0m\u001b[0;34m==\u001b[0m\u001b[0;34m\"__main__\"\u001b[0m\u001b[0;34m:\u001b[0m\u001b[0;34m\u001b[0m\u001b[0;34m\u001b[0m\u001b[0m\n\u001b[0;32m---> 89\u001b[0;31m     \u001b[0mmain\u001b[0m\u001b[0;34m(\u001b[0m\u001b[0;34m)\u001b[0m\u001b[0;34m\u001b[0m\u001b[0;34m\u001b[0m\u001b[0m\n\u001b[0m",
            "\u001b[0;32m<ipython-input-35-f0d0d0341214>\u001b[0m in \u001b[0;36mmain\u001b[0;34m()\u001b[0m\n\u001b[1;32m     75\u001b[0m   \u001b[0mf3\u001b[0m\u001b[0;34m.\u001b[0m\u001b[0mclose\u001b[0m\u001b[0;34m(\u001b[0m\u001b[0;34m)\u001b[0m\u001b[0;34m\u001b[0m\u001b[0;34m\u001b[0m\u001b[0m\n\u001b[1;32m     76\u001b[0m   \u001b[0;32mwith\u001b[0m \u001b[0mopen\u001b[0m\u001b[0;34m(\u001b[0m\u001b[0;34m'nguoi.txt'\u001b[0m\u001b[0;34m,\u001b[0m\u001b[0;34m'r'\u001b[0m\u001b[0;34m)\u001b[0m \u001b[0;32mas\u001b[0m \u001b[0mf1\u001b[0m\u001b[0;34m:\u001b[0m\u001b[0;34m\u001b[0m\u001b[0;34m\u001b[0m\u001b[0m\n\u001b[0;32m---> 77\u001b[0;31m     \u001b[0mx\u001b[0m\u001b[0;34m=\u001b[0m\u001b[0mf1\u001b[0m\u001b[0;34m.\u001b[0m\u001b[0mread\u001b[0m\u001b[0;34m(\u001b[0m\u001b[0;34m)\u001b[0m\u001b[0;34m\u001b[0m\u001b[0;34m\u001b[0m\u001b[0m\n\u001b[0m\u001b[1;32m     78\u001b[0m   \u001b[0mf1\u001b[0m\u001b[0;34m.\u001b[0m\u001b[0mclose\u001b[0m\u001b[0;34m(\u001b[0m\u001b[0;34m)\u001b[0m\u001b[0;34m\u001b[0m\u001b[0;34m\u001b[0m\u001b[0m\n\u001b[1;32m     79\u001b[0m   \u001b[0mprint\u001b[0m\u001b[0;34m(\u001b[0m\u001b[0mx\u001b[0m\u001b[0;34m)\u001b[0m\u001b[0;34m\u001b[0m\u001b[0;34m\u001b[0m\u001b[0m\n",
            "\u001b[0;32m/usr/lib/python3.7/codecs.py\u001b[0m in \u001b[0;36mdecode\u001b[0;34m(self, input, final)\u001b[0m\n\u001b[1;32m    320\u001b[0m         \u001b[0;31m# decode input (taking the buffer into account)\u001b[0m\u001b[0;34m\u001b[0m\u001b[0;34m\u001b[0m\u001b[0;34m\u001b[0m\u001b[0m\n\u001b[1;32m    321\u001b[0m         \u001b[0mdata\u001b[0m \u001b[0;34m=\u001b[0m \u001b[0mself\u001b[0m\u001b[0;34m.\u001b[0m\u001b[0mbuffer\u001b[0m \u001b[0;34m+\u001b[0m \u001b[0minput\u001b[0m\u001b[0;34m\u001b[0m\u001b[0;34m\u001b[0m\u001b[0m\n\u001b[0;32m--> 322\u001b[0;31m         \u001b[0;34m(\u001b[0m\u001b[0mresult\u001b[0m\u001b[0;34m,\u001b[0m \u001b[0mconsumed\u001b[0m\u001b[0;34m)\u001b[0m \u001b[0;34m=\u001b[0m \u001b[0mself\u001b[0m\u001b[0;34m.\u001b[0m\u001b[0m_buffer_decode\u001b[0m\u001b[0;34m(\u001b[0m\u001b[0mdata\u001b[0m\u001b[0;34m,\u001b[0m \u001b[0mself\u001b[0m\u001b[0;34m.\u001b[0m\u001b[0merrors\u001b[0m\u001b[0;34m,\u001b[0m \u001b[0mfinal\u001b[0m\u001b[0;34m)\u001b[0m\u001b[0;34m\u001b[0m\u001b[0;34m\u001b[0m\u001b[0m\n\u001b[0m\u001b[1;32m    323\u001b[0m         \u001b[0;31m# keep undecoded input until the next call\u001b[0m\u001b[0;34m\u001b[0m\u001b[0;34m\u001b[0m\u001b[0;34m\u001b[0m\u001b[0m\n\u001b[1;32m    324\u001b[0m         \u001b[0mself\u001b[0m\u001b[0;34m.\u001b[0m\u001b[0mbuffer\u001b[0m \u001b[0;34m=\u001b[0m \u001b[0mdata\u001b[0m\u001b[0;34m[\u001b[0m\u001b[0mconsumed\u001b[0m\u001b[0;34m:\u001b[0m\u001b[0;34m]\u001b[0m\u001b[0;34m\u001b[0m\u001b[0;34m\u001b[0m\u001b[0m\n",
            "\u001b[0;31mUnicodeDecodeError\u001b[0m: 'utf-8' codec can't decode byte 0x80 in position 0: invalid start byte"
          ]
        }
      ]
    }
  ]
}